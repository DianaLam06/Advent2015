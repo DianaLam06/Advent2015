{
 "cells": [
  {
   "cell_type": "code",
   "execution_count": 50,
   "id": "medium-constitution",
   "metadata": {},
   "outputs": [],
   "source": [
    "import re"
   ]
  },
  {
   "cell_type": "code",
   "execution_count": null,
   "id": "horizontal-blanket",
   "metadata": {},
   "outputs": [],
   "source": [
    "day"
   ]
  },
  {
   "cell_type": "code",
   "execution_count": 58,
   "id": "normal-terrace",
   "metadata": {},
   "outputs": [],
   "source": [
    "day5_file = open(\"../Advent2015_input/Day5.txt\", \"r\")\n",
    "day5_input = [line for line in day5_file.readlines()]\n",
    "day5_file.close()"
   ]
  },
  {
   "cell_type": "code",
   "execution_count": 59,
   "id": "thrown-values",
   "metadata": {},
   "outputs": [
    {
     "data": {
      "text/plain": [
       "1000"
      ]
     },
     "execution_count": 59,
     "metadata": {},
     "output_type": "execute_result"
    }
   ],
   "source": [
    "len(day5_input)"
   ]
  },
  {
   "cell_type": "code",
   "execution_count": 60,
   "id": "medieval-accounting",
   "metadata": {},
   "outputs": [
    {
     "data": {
      "text/plain": [
       "'zgsnvdmlfuplrubt\\n'"
      ]
     },
     "execution_count": 60,
     "metadata": {},
     "output_type": "execute_result"
    }
   ],
   "source": [
    "day5_input[0]"
   ]
  },
  {
   "cell_type": "code",
   "execution_count": 43,
   "id": "thermal-proposal",
   "metadata": {},
   "outputs": [],
   "source": [
    "def find_dups(string):\n",
    "    duplicates = {}\n",
    "    for letter in string:\n",
    "        if letter in duplicates:\n",
    "            duplicates[letter]+=1\n",
    "        else:\n",
    "            duplicates[letter] = 1\n",
    "    \n",
    "    for val in duplicates.values():\n",
    "        if val > 1:\n",
    "            return True\n",
    "        else:\n",
    "            continue\n",
    "    return False"
   ]
  },
  {
   "cell_type": "code",
   "execution_count": 44,
   "id": "basic-kitty",
   "metadata": {},
   "outputs": [],
   "source": [
    "def find_sub(string):\n",
    "    '''ab, cd, pq, or xy, want to be false'''\n",
    "    look_for = ['ab', 'cd', 'pq', 'xy']\n",
    "    for sub in look_for:\n",
    "        if sub in string:\n",
    "            return True\n",
    "        else:\n",
    "            continue\n",
    "    return False"
   ]
  },
  {
   "cell_type": "code",
   "execution_count": 45,
   "id": "automated-traffic",
   "metadata": {},
   "outputs": [],
   "source": [
    "def find_vow(string):\n",
    "    vowels = re.findall(r'[aeiou]', string)\n",
    "    if len(vowels) >= 3:\n",
    "        return True\n",
    "    else:\n",
    "        return False\n",
    "    "
   ]
  },
  {
   "cell_type": "code",
   "execution_count": 63,
   "id": "incomplete-baking",
   "metadata": {},
   "outputs": [],
   "source": [
    "def find_nice(string):\n",
    "    dups = find_dups(string)\n",
    "    sub = not find_sub(string)\n",
    "    vowels = find_vow(string)\n",
    "    \n",
    "    print('dups:{}, sub:{}, vowels:{}'.format(dups, sub, vowels))\n",
    "    \n",
    "    if dups and sub and vowels:\n",
    "        return True\n",
    "    else:\n",
    "        return False"
   ]
  },
  {
   "cell_type": "code",
   "execution_count": 64,
   "id": "welcome-finder",
   "metadata": {},
   "outputs": [
    {
     "name": "stdout",
     "output_type": "stream",
     "text": [
      "dups:True, sub:False, vowels:True\n"
     ]
    },
    {
     "data": {
      "text/plain": [
       "False"
      ]
     },
     "execution_count": 64,
     "metadata": {},
     "output_type": "execute_result"
    }
   ],
   "source": [
    "find_nice('haegwjzuvuyypxyu')"
   ]
  },
  {
   "cell_type": "code",
   "execution_count": 53,
   "id": "collaborative-checklist",
   "metadata": {},
   "outputs": [
    {
     "data": {
      "text/plain": [
       "581"
      ]
     },
     "execution_count": 53,
     "metadata": {},
     "output_type": "execute_result"
    }
   ],
   "source": [
    "sum([find_nice(string) for string in day5_input]) # 300 something was too high"
   ]
  },
  {
   "cell_type": "code",
   "execution_count": 65,
   "id": "numerous-ratio",
   "metadata": {},
   "outputs": [
    {
     "data": {
      "text/plain": [
       "'cqfikbgxvjmnfncy\\n'"
      ]
     },
     "execution_count": 65,
     "metadata": {},
     "output_type": "execute_result"
    }
   ],
   "source": [
    "day5_input[-1]"
   ]
  },
  {
   "cell_type": "code",
   "execution_count": null,
   "id": "cathedral-ability",
   "metadata": {},
   "outputs": [],
   "source": []
  }
 ],
 "metadata": {
  "kernelspec": {
   "display_name": "Python 3",
   "language": "python",
   "name": "python3"
  },
  "language_info": {
   "codemirror_mode": {
    "name": "ipython",
    "version": 3
   },
   "file_extension": ".py",
   "mimetype": "text/x-python",
   "name": "python",
   "nbconvert_exporter": "python",
   "pygments_lexer": "ipython3",
   "version": "3.9.1"
  }
 },
 "nbformat": 4,
 "nbformat_minor": 5
}
