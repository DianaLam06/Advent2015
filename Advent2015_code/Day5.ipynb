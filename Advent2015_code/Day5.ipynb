{
 "cells": [
  {
   "cell_type": "code",
   "execution_count": 15,
   "id": "fixed-clause",
   "metadata": {},
   "outputs": [],
   "source": [
    "import re\n",
    "import string"
   ]
  },
  {
   "cell_type": "code",
   "execution_count": 9,
   "id": "surface-basics",
   "metadata": {},
   "outputs": [],
   "source": [
    "day5_file = open(\"../Advent2015_input/Day5.txt\", \"r\")\n",
    "day5_input = [line for line in day5_file.readlines()]\n",
    "day5_file.close()"
   ]
  },
  {
   "cell_type": "code",
   "execution_count": 10,
   "id": "qualified-perception",
   "metadata": {},
   "outputs": [],
   "source": [
    "def find_dups(string):\n",
    "    # duplicates need to be right next to each other!!!!\n",
    "    # enumerate to get position?\n",
    "    duplicates = {}\n",
    "    for pos, letter in enumerate(string):\n",
    "        if letter in duplicates:\n",
    "            duplicates[letter][0]+=1\n",
    "            duplicates[letter][1].append(pos)\n",
    "        else:\n",
    "            duplicates[letter] = [1,[pos]]\n",
    "    \n",
    "    for val in duplicates.values():\n",
    "        if val[0] > 1:\n",
    "            for i in range(len(val[1]) - 1):\n",
    "                if val[1][i]+1 == val[1][i+1]:\n",
    "                    return True\n",
    "                else:\n",
    "                    continue\n",
    "    return False"
   ]
  },
  {
   "cell_type": "code",
   "execution_count": 30,
   "id": "ruled-consequence",
   "metadata": {},
   "outputs": [],
   "source": [
    "def find_sub(string):\n",
    "    '''ab, cd, pq, or xy, want to be false'''\n",
    "    look_for = ['ab', 'cd', 'pq', 'xy']\n",
    "    for sub in look_for:\n",
    "        if sub in string:\n",
    "            return True\n",
    "        else:\n",
    "            continue\n",
    "    return False"
   ]
  },
  {
   "cell_type": "code",
   "execution_count": 31,
   "id": "downtown-canvas",
   "metadata": {},
   "outputs": [],
   "source": [
    "def find_vow(string):\n",
    "    vowels = re.findall(r'[aeiou]', string)\n",
    "    if len(vowels) >= 3:\n",
    "        return True\n",
    "    else:\n",
    "        return False\n",
    "    "
   ]
  },
  {
   "cell_type": "code",
   "execution_count": 35,
   "id": "south-headquarters",
   "metadata": {},
   "outputs": [],
   "source": [
    "def find_nice(string):\n",
    "    dups = find_dups(string)\n",
    "    sub = not find_sub(string)\n",
    "    vowels = find_vow(string)\n",
    "    \n",
    "    \n",
    "    if dups and sub and vowels:\n",
    "        return True\n",
    "    else:\n",
    "        return False"
   ]
  },
  {
   "cell_type": "code",
   "execution_count": 37,
   "id": "colored-therapist",
   "metadata": {},
   "outputs": [
    {
     "data": {
      "text/plain": [
       "238"
      ]
     },
     "execution_count": 37,
     "metadata": {},
     "output_type": "execute_result"
    }
   ],
   "source": [
    "sum([find_nice(string) for string in day5_input]) # 300 something was too high"
   ]
  },
  {
   "cell_type": "code",
   "execution_count": 5,
   "id": "distinguished-integer",
   "metadata": {},
   "outputs": [
    {
     "data": {
      "text/plain": [
       "False"
      ]
     },
     "execution_count": 5,
     "metadata": {},
     "output_type": "execute_result"
    }
   ],
   "source": [
    "('a' == 'b') and (1 ==1)"
   ]
  },
  {
   "cell_type": "code",
   "execution_count": 12,
   "id": "flying-trademark",
   "metadata": {},
   "outputs": [],
   "source": [
    "def find_nice2(string):\n",
    "    # doesn't work\n",
    "    duplicates = {}\n",
    "    for pos, letter in enumerate(string):\n",
    "        if letter in duplicates:\n",
    "            duplicates[letter][0]+=1\n",
    "            duplicates[letter][1].append(pos)\n",
    "        else:\n",
    "            duplicates[letter] = [1,[pos]]\n",
    "    \n",
    "    for val in duplicates.values():\n",
    "        if val[0] > 1:\n",
    "            pos_list = val[1]\n",
    "            for i in range(len(pos_list) - 3):\n",
    "                if (pos_list[i]+1 == pos_list[i+1]) and \\\n",
    "                (pos_list[i+1] == pos_list[i+2]+2) and \\\n",
    "                (pos_list[i+2] +1 == pos_list[i+3]):\n",
    "                    return True\n",
    "                else:\n",
    "                    continue\n",
    "    return False"
   ]
  },
  {
   "cell_type": "code",
   "execution_count": 66,
   "id": "surprised-saying",
   "metadata": {},
   "outputs": [],
   "source": [
    "def find_pairs(str_):\n",
    "    for l1 in string.ascii_lowercase:\n",
    "        for l2 in string.ascii_lowercase:\n",
    "            my_regex = r\"{}{}\".format(l1, l2)\n",
    "            x = re.finditer(my_regex, str_)\n",
    "            position = [pair.start() for pair in x]\n",
    "            if len(position) >= 2:\n",
    "                return True\n",
    "    return False\n",
    "    "
   ]
  },
  {
   "cell_type": "code",
   "execution_count": 81,
   "id": "norwegian-international",
   "metadata": {},
   "outputs": [],
   "source": [
    "def find_xox(str_):\n",
    "    for letter in string.ascii_lowercase:\n",
    "        my_regex = r\"{}.{}\".format(letter, letter, letter)\n",
    "        x = re.findall(my_regex, str_)\n",
    "        if len(x) >= 1:\n",
    "            return True\n",
    "    return False"
   ]
  },
  {
   "cell_type": "code",
   "execution_count": 82,
   "id": "burning-original",
   "metadata": {},
   "outputs": [
    {
     "data": {
      "text/plain": [
       "True"
      ]
     },
     "execution_count": 82,
     "metadata": {},
     "output_type": "execute_result"
    }
   ],
   "source": [
    "find_xox('ddd')"
   ]
  },
  {
   "cell_type": "code",
   "execution_count": 83,
   "id": "neural-large",
   "metadata": {},
   "outputs": [],
   "source": [
    "def find_nice2(str_):\n",
    "    if find_pairs(str_) and find_xox(str_):\n",
    "        return True\n",
    "    else:\n",
    "        return False"
   ]
  },
  {
   "cell_type": "code",
   "execution_count": 84,
   "id": "conceptual-personal",
   "metadata": {},
   "outputs": [
    {
     "data": {
      "text/plain": [
       "False"
      ]
     },
     "execution_count": 84,
     "metadata": {},
     "output_type": "execute_result"
    }
   ],
   "source": [
    "find_nice2('ieodomkazucvgmuy')"
   ]
  },
  {
   "cell_type": "code",
   "execution_count": 85,
   "id": "stunning-trick",
   "metadata": {},
   "outputs": [
    {
     "data": {
      "text/plain": [
       "69"
      ]
     },
     "execution_count": 85,
     "metadata": {},
     "output_type": "execute_result"
    }
   ],
   "source": [
    "sum([find_nice2(str_) for str_ in day5_input])"
   ]
  },
  {
   "cell_type": "code",
   "execution_count": null,
   "id": "modular-snapshot",
   "metadata": {},
   "outputs": [],
   "source": []
  }
 ],
 "metadata": {
  "kernelspec": {
   "display_name": "Python 3",
   "language": "python",
   "name": "python3"
  },
  "language_info": {
   "codemirror_mode": {
    "name": "ipython",
    "version": 3
   },
   "file_extension": ".py",
   "mimetype": "text/x-python",
   "name": "python",
   "nbconvert_exporter": "python",
   "pygments_lexer": "ipython3",
   "version": "3.9.1"
  }
 },
 "nbformat": 4,
 "nbformat_minor": 5
}
