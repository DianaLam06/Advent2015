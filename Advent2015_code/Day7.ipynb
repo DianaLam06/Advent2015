{
 "cells": [
  {
   "cell_type": "code",
   "execution_count": 25,
   "id": "composite-raise",
   "metadata": {},
   "outputs": [],
   "source": [
    "import re"
   ]
  },
  {
   "cell_type": "code",
   "execution_count": 26,
   "id": "continental-motivation",
   "metadata": {},
   "outputs": [],
   "source": [
    "with open(\"../Advent2015_input/Day7.txt\", \"r\") as file:\n",
    "    day7_input = file.readlines()"
   ]
  },
  {
   "cell_type": "code",
   "execution_count": 27,
   "id": "defensive-jerusalem",
   "metadata": {},
   "outputs": [
    {
     "data": {
      "text/plain": [
       "'bn RSHIFT 2 -> bo\\n'"
      ]
     },
     "execution_count": 27,
     "metadata": {},
     "output_type": "execute_result"
    }
   ],
   "source": [
    "day7_input[0]"
   ]
  },
  {
   "cell_type": "code",
   "execution_count": 22,
   "id": "middle-electron",
   "metadata": {},
   "outputs": [],
   "source": [
    "a = 60            # 60 = 0011 1100 \n",
    "b = 13            # 13 = 0000 1101 \n",
    "c = 0\n",
    "\n",
    "c = a & b"
   ]
  },
  {
   "cell_type": "code",
   "execution_count": 23,
   "id": "leading-buffalo",
   "metadata": {},
   "outputs": [
    {
     "data": {
      "text/plain": [
       "12"
      ]
     },
     "execution_count": 23,
     "metadata": {},
     "output_type": "execute_result"
    }
   ],
   "source": [
    "c"
   ]
  },
  {
   "cell_type": "code",
   "execution_count": 24,
   "id": "champion-latest",
   "metadata": {},
   "outputs": [
    {
     "data": {
      "text/plain": [
       "'0b1100'"
      ]
     },
     "execution_count": 24,
     "metadata": {},
     "output_type": "execute_result"
    }
   ],
   "source": [
    "bin(c)"
   ]
  },
  {
   "cell_type": "code",
   "execution_count": null,
   "id": "detailed-calculator",
   "metadata": {},
   "outputs": [],
   "source": []
  }
 ],
 "metadata": {
  "kernelspec": {
   "display_name": "Python 3",
   "language": "python",
   "name": "python3"
  },
  "language_info": {
   "codemirror_mode": {
    "name": "ipython",
    "version": 3
   },
   "file_extension": ".py",
   "mimetype": "text/x-python",
   "name": "python",
   "nbconvert_exporter": "python",
   "pygments_lexer": "ipython3",
   "version": "3.9.1"
  }
 },
 "nbformat": 4,
 "nbformat_minor": 5
}
