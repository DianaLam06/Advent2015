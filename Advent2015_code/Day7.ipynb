{
 "cells": [
  {
   "cell_type": "code",
   "execution_count": 2,
   "id": "limiting-father",
   "metadata": {},
   "outputs": [],
   "source": [
    "import re"
   ]
  },
  {
   "cell_type": "code",
   "execution_count": 7,
   "id": "double-wildlife",
   "metadata": {},
   "outputs": [],
   "source": [
    "with open(\"../Advent2015_input/Day7.txt\", \"r\") as file:\n",
    "    day7_input = file.readlines()"
   ]
  },
  {
   "cell_type": "code",
   "execution_count": 22,
   "id": "apart-specific",
   "metadata": {},
   "outputs": [],
   "source": [
    "a = 60            # 60 = 0011 1100 \n",
    "b = 13            # 13 = 0000 1101 \n",
    "c = 0\n",
    "\n",
    "c = a & b"
   ]
  },
  {
   "cell_type": "code",
   "execution_count": 23,
   "id": "bearing-joseph",
   "metadata": {},
   "outputs": [
    {
     "data": {
      "text/plain": [
       "12"
      ]
     },
     "execution_count": 23,
     "metadata": {},
     "output_type": "execute_result"
    }
   ],
   "source": [
    "c"
   ]
  },
  {
   "cell_type": "code",
   "execution_count": 24,
   "id": "hindu-individual",
   "metadata": {},
   "outputs": [
    {
     "data": {
      "text/plain": [
       "'0b1100'"
      ]
     },
     "execution_count": 24,
     "metadata": {},
     "output_type": "execute_result"
    }
   ],
   "source": [
    "bin(c)"
   ]
  },
  {
   "cell_type": "code",
   "execution_count": 2,
   "id": "heated-saint",
   "metadata": {},
   "outputs": [],
   "source": [
    "x = 123\n",
    "y = 456"
   ]
  },
  {
   "cell_type": "code",
   "execution_count": 4,
   "id": "minor-subdivision",
   "metadata": {},
   "outputs": [],
   "source": [
    "d = x & y"
   ]
  },
  {
   "cell_type": "code",
   "execution_count": 5,
   "id": "isolated-taste",
   "metadata": {},
   "outputs": [
    {
     "data": {
      "text/plain": [
       "72"
      ]
     },
     "execution_count": 5,
     "metadata": {},
     "output_type": "execute_result"
    }
   ],
   "source": [
    "d"
   ]
  },
  {
   "cell_type": "code",
   "execution_count": 21,
   "id": "exciting-victoria",
   "metadata": {},
   "outputs": [],
   "source": [
    "def find_assigned(str_list):\n",
    "    assigned = list()\n",
    "    for str_ in str_list:\n",
    "        add = re.findall('^\\d+ -> (\\w+)', str_)\n",
    "        if len(add) > 0:\n",
    "            assigned.append(add[0])\n",
    "    return assigned"
   ]
  },
  {
   "cell_type": "code",
   "execution_count": 22,
   "id": "domestic-masters",
   "metadata": {},
   "outputs": [],
   "source": [
    "assigned = find_assigned(day7_input)"
   ]
  },
  {
   "cell_type": "code",
   "execution_count": 53,
   "id": "expired-cricket",
   "metadata": {},
   "outputs": [],
   "source": [
    "def assign_signal(wire, wire_dict, str_list):\n",
    "    find = \"^(\\d+) -> \" + wire\n",
    "    for str_ in str_list:\n",
    "        signal = re.findall(find, str_)\n",
    "        if signal == []:\n",
    "            pass\n",
    "        else:\n",
    "            wire_dict[wire] = signal[0]"
   ]
  },
  {
   "cell_type": "code",
   "execution_count": 28,
   "id": "introductory-arrangement",
   "metadata": {},
   "outputs": [],
   "source": [
    "def find_unique_wires(str_list):\n",
    "    wires = list()\n",
    "    for str_ in str_list:\n",
    "        wire = re.findall('-> (\\w+)$', str_)\n",
    "        wires.append(wire[0])\n",
    "    return list(set(wires))"
   ]
  },
  {
   "cell_type": "code",
   "execution_count": 31,
   "id": "solid-eating",
   "metadata": {},
   "outputs": [],
   "source": [
    "wires = find_unique_wires(day7_input)"
   ]
  },
  {
   "cell_type": "code",
   "execution_count": 32,
   "id": "technical-albert",
   "metadata": {},
   "outputs": [],
   "source": [
    "wire_dict = {wire:None for wire in wires}"
   ]
  },
  {
   "cell_type": "code",
   "execution_count": 54,
   "id": "listed-springfield",
   "metadata": {},
   "outputs": [],
   "source": [
    "for wire in assigned:\n",
    "    assign_signal(wire, wire_dict, day7_input)"
   ]
  },
  {
   "cell_type": "code",
   "execution_count": 67,
   "id": "regulated-million",
   "metadata": {},
   "outputs": [],
   "source": [
    "def find_lines_known_wires(wire, str_list):\n",
    "    new = list()\n",
    "    for str_ in str_list:\n",
    "        # this seems like a round about way to get an exact match\n",
    "        add = re.findall(\"\\s[\"+wire+\"]\\s\", str_) + re.findall(\"^[\"+wire+\"]\\s\", str_)\n",
    "        \n",
    "        if add != []:\n",
    "            new.append(str_)\n",
    "    return new"
   ]
  },
  {
   "cell_type": "code",
   "execution_count": 82,
   "id": "northern-harvest",
   "metadata": {},
   "outputs": [],
   "source": [
    "b_known_lines = find_lines_known_wires('b', day7_input)"
   ]
  },
  {
   "cell_type": "code",
   "execution_count": 69,
   "id": "handy-tobacco",
   "metadata": {},
   "outputs": [
    {
     "data": {
      "text/plain": [
       "['c LSHIFT 1 -> t\\n', '0 -> c\\n']"
      ]
     },
     "execution_count": 69,
     "metadata": {},
     "output_type": "execute_result"
    }
   ],
   "source": [
    "find_lines_known_wires('c', day7_input)"
   ]
  },
  {
   "cell_type": "code",
   "execution_count": 71,
   "id": "boring-phoenix",
   "metadata": {},
   "outputs": [
    {
     "data": {
      "text/plain": [
       "3348"
      ]
     },
     "execution_count": 71,
     "metadata": {},
     "output_type": "execute_result"
    }
   ],
   "source": [
    "eval('1674 << 1')"
   ]
  },
  {
   "cell_type": "code",
   "execution_count": 75,
   "id": "legislative-oliver",
   "metadata": {},
   "outputs": [
    {
     "data": {
      "text/plain": [
       "837"
      ]
     },
     "execution_count": 75,
     "metadata": {},
     "output_type": "execute_result"
    }
   ],
   "source": [
    "eval(\"b RSHIFT 1\".replace(\"b\", \"1674\").replace(\"RSHIFT\", \">>\"))"
   ]
  },
  {
   "cell_type": "code",
   "execution_count": 76,
   "id": "peaceful-intermediate",
   "metadata": {},
   "outputs": [],
   "source": [
    "re.search(\"b RSHIFT 1\", \"RSHIFT\")"
   ]
  },
  {
   "cell_type": "code",
   "execution_count": 78,
   "id": "consecutive-milton",
   "metadata": {},
   "outputs": [
    {
     "data": {
      "text/plain": [
       "'welp'"
      ]
     },
     "execution_count": 78,
     "metadata": {},
     "output_type": "execute_result"
    }
   ],
   "source": [
    "new_line = \"help\"\n",
    "new_line = new_line.replace(\"h\", \"w\")\n",
    "new_line"
   ]
  },
  {
   "cell_type": "code",
   "execution_count": 91,
   "id": "private-praise",
   "metadata": {},
   "outputs": [],
   "source": [
    "def get_new_signals(wire, wire_dict, known_lines):\n",
    "    word_list = [\"RSHIFT\", \"LSHIFT\", \"AND\", \"OR\", \"NOT\"]\n",
    "    symbol_list = [\">>\", \"<<\", \"&\", \"|\", \"~\"]\n",
    "    eval_lines = list()\n",
    "    for line in known_lines:\n",
    "        line = re.\n",
    "        for (word, sym) in zip(word_list, symbol_list):\n",
    "            if re.findall(word, line):\n",
    "                line = line.replace(word, sym)\n",
    "        \n",
    "        line = line.replace(wire, str(wire_dict[wire]))\n",
    "        eval_lines.append(line)\n",
    "    return(eval_lines)"
   ]
  },
  {
   "cell_type": "code",
   "execution_count": 92,
   "id": "nonprofit-ideal",
   "metadata": {},
   "outputs": [
    {
     "data": {
      "text/plain": [
       "['1674 >> 1 -> v\\n',\n",
       " '1674 & n -> p\\n',\n",
       " '1674 | n -> o\\n',\n",
       " '1674 >> 5 -> f\\n',\n",
       " '1674 >> 2 -> d\\n',\n",
       " '1674 >> 3 -> e\\n',\n",
       " '1674 -> 1674\\n']"
      ]
     },
     "execution_count": 92,
     "metadata": {},
     "output_type": "execute_result"
    }
   ],
   "source": [
    "get_new_signals(\"b\", wire_dict, b_known_lines)"
   ]
  },
  {
   "cell_type": "code",
   "execution_count": 90,
   "id": "persistent-guest",
   "metadata": {},
   "outputs": [
    {
     "data": {
      "text/plain": [
       "['b RSHIFT 1 -> v\\n',\n",
       " 'b AND n -> p\\n',\n",
       " 'b OR n -> o\\n',\n",
       " 'b RSHIFT 5 -> f\\n',\n",
       " 'b RSHIFT 2 -> d\\n',\n",
       " 'b RSHIFT 3 -> e\\n',\n",
       " '1674 -> b\\n']"
      ]
     },
     "execution_count": 90,
     "metadata": {},
     "output_type": "execute_result"
    }
   ],
   "source": [
    "b_known_lines"
   ]
  },
  {
   "cell_type": "code",
   "execution_count": 111,
   "id": "subsequent-postage",
   "metadata": {},
   "outputs": [
    {
     "ename": "ValueError",
     "evalue": "'->' is not in list",
     "output_type": "error",
     "traceback": [
      "\u001b[0;31m---------------------------------------------------------------------------\u001b[0m",
      "\u001b[0;31mValueError\u001b[0m                                Traceback (most recent call last)",
      "\u001b[0;32m<ipython-input-111-af9fbec2c871>\u001b[0m in \u001b[0;36m<module>\u001b[0;34m\u001b[0m\n\u001b[1;32m      1\u001b[0m \u001b[0mword_list\u001b[0m \u001b[0;34m=\u001b[0m \u001b[0;34m[\u001b[0m\u001b[0;34m\"RSHIFT\"\u001b[0m\u001b[0;34m,\u001b[0m \u001b[0;34m\"LSHIFT\"\u001b[0m\u001b[0;34m,\u001b[0m \u001b[0;34m\"AND\"\u001b[0m\u001b[0;34m,\u001b[0m \u001b[0;34m\"OR\"\u001b[0m\u001b[0;34m,\u001b[0m \u001b[0;34m\"NOT\"\u001b[0m\u001b[0;34m]\u001b[0m\u001b[0;34m\u001b[0m\u001b[0;34m\u001b[0m\u001b[0m\n\u001b[0;32m----> 2\u001b[0;31m \u001b[0mword_list\u001b[0m\u001b[0;34m.\u001b[0m\u001b[0mindex\u001b[0m\u001b[0;34m(\u001b[0m\u001b[0;34m\"->\"\u001b[0m\u001b[0;34m)\u001b[0m\u001b[0;34m\u001b[0m\u001b[0;34m\u001b[0m\u001b[0m\n\u001b[0m",
      "\u001b[0;31mValueError\u001b[0m: '->' is not in list"
     ]
    }
   ],
   "source": [
    "word_list = [\"RSHIFT\", \"LSHIFT\", \"AND\", \"OR\", \"NOT\"]\n",
    "word_list.index(\"->\")"
   ]
  },
  {
   "cell_type": "code",
   "execution_count": 98,
   "id": "functioning-underwear",
   "metadata": {},
   "outputs": [],
   "source": [
    "def find_signal(input_signal, word):\n",
    "    \n",
    "    word_list = [\"RSHIFT\", \"LSHIFT\", \"AND\", \"OR\", \"NOT\"]\n",
    "    i = word_list.index(word)\n",
    "    symbol_list = [\">>\", \"<<\", \"&\", \"|\", \"~\"]\n",
    "    \n",
    "    if word == \"RAW_INPUT\":\n",
    "        return input_value\n",
    "    elif word != \"NOT\":\n",
    "        signal = eval(find_signal(input_signal[0]) + symbol_list[i] + find_signal(input_signal[1]))\n",
    "    else:\n",
    "        signal = eval(symbol_list[i] + input_signal[0])\n",
    "    return signal"
   ]
  },
  {
   "cell_type": "code",
   "execution_count": 162,
   "id": "informed-likelihood",
   "metadata": {},
   "outputs": [
    {
     "ename": "ValueError",
     "evalue": "invalid literal for int() with base 10: 'a'",
     "output_type": "error",
     "traceback": [
      "\u001b[0;31m---------------------------------------------------------------------------\u001b[0m",
      "\u001b[0;31mValueError\u001b[0m                                Traceback (most recent call last)",
      "\u001b[0;32m<ipython-input-162-d9136db7b558>\u001b[0m in \u001b[0;36m<module>\u001b[0;34m\u001b[0m\n\u001b[0;32m----> 1\u001b[0;31m \u001b[0mint\u001b[0m\u001b[0;34m(\u001b[0m\u001b[0;34m\"a\"\u001b[0m\u001b[0;34m)\u001b[0m\u001b[0;34m\u001b[0m\u001b[0;34m\u001b[0m\u001b[0m\n\u001b[0m",
      "\u001b[0;31mValueError\u001b[0m: invalid literal for int() with base 10: 'a'"
     ]
    }
   ],
   "source": [
    "int(\"a\")"
   ]
  },
  {
   "cell_type": "code",
   "execution_count": null,
   "id": "bright-editor",
   "metadata": {},
   "outputs": [],
   "source": [
    "object gate\n",
    "-operation\n",
    "-input_list\n",
    "\n",
    "{output: dict(operation, input_list)}\n",
    "\n",
    "circuit: \n",
    "{\n",
    "    'b': {'operation': 'AND', 'input_list': ['c', 'd']},\n",
    "    'c': {'operation': 'RSHIFT', 'input_list': ['e', 1]}\n",
    "}\n",
    "\n",
    "\n",
    "def find_signal(gate):\n",
    "    \"\"\"input: dict(operation, input_list)\n",
    "    \"\"\"\n",
    "    \n",
    "    operation = gate['operation']\n",
    "    input_list = gate['input_list']\n",
    "    \n",
    "    if operation == \"RAW_INPUT\" & :\n",
    "        return input_list[0]\n",
    "    elif operation == \"AND\"\n",
    "        return int(\n",
    "            find_signal(circuit[input_list[0]])\n",
    "        ) & int(\n",
    "            find_signal(circuit[input_list[1]])\n",
    "        )\n",
    "    elif operation == \"OR\"\n",
    "        return blah\n",
    "    elif operation == \"RSHIFT\"\n",
    "        return blah\n",
    "    \n",
    "    \n",
    "    \n",
    "find_signal(circuit['b'])\n",
    "\n",
    "find_signal({'operation': 'AND', 'input_list': ['c', 'd']})\n",
    "\n",
    "int(\n",
    "        find_signal(circuit[input_list[0]])\n",
    "    ) & int(\n",
    "        find_signal(circuit[input_list[1]])\n",
    "    )\n",
    "\n",
    "int(\n",
    "        find_signal(circuit['c'])\n",
    "    ) & int(\n",
    "        find_signal(circuit['d'])\n",
    "    )"
   ]
  },
  {
   "cell_type": "code",
   "execution_count": 188,
   "id": "starting-walnut",
   "metadata": {},
   "outputs": [],
   "source": [
    "circuit = dict()\n",
    "\n",
    "def parse_lines(line):\n",
    "    \n",
    "    word_list = [\"RSHIFT\", \"LSHIFT\", \"AND\", \"OR\", \"NOT\"]\n",
    "    op = \"RAW_INPUT\"\n",
    "    for word in word_list:\n",
    "        if word in line:\n",
    "            op = word\n",
    "        \n",
    "    wires = re.findall(\"\\w+\", line.replace(op, \" \"))\n",
    "#     print(re.findall(\"\\d+\", wires[1]))\n",
    "#     print(len(re.findall(\"\\d+\", wires[0])))\n",
    "#     print(len(re.findall(\"\\d+\", wires[1])))\n",
    "    if re.findall(\"\\d+\", wires[1]) == []:\n",
    "        # no integers\n",
    "        circuit[wires[-1]] = {'operation': op, 'input_list': wires[:len(wires)-1]}\n",
    "    elif len(re.findall(\"\\d+\", wires[0])) == 1:\n",
    "        # first variable is an integer (there will only be one)\n",
    "        circuit[wires[-1]] = {'operation': op, 'input_list': [int(wires[0])]}\n",
    "    elif len(re.findall(\"\\d+\", wires[1])) == 1:\n",
    "        # second variable is an integer\n",
    "        circuit[wires[-1]] = {'operation': op, 'input_list': [wires[0], int(wires[1])]}\n",
    "        \n",
    "    \n",
    "    "
   ]
  },
  {
   "cell_type": "code",
   "execution_count": 189,
   "id": "naughty-northeast",
   "metadata": {},
   "outputs": [],
   "source": [
    "for line in day7_input:\n",
    "    parse_lines(line)"
   ]
  },
  {
   "cell_type": "code",
   "execution_count": 191,
   "id": "infectious-jesus",
   "metadata": {},
   "outputs": [
    {
     "data": {
      "text/plain": [
       "{'operation': 'RSHIFT', 'input_list': ['bn', 2]}"
      ]
     },
     "execution_count": 191,
     "metadata": {},
     "output_type": "execute_result"
    }
   ],
   "source": [
    "circuit['bo']"
   ]
  },
  {
   "cell_type": "code",
   "execution_count": 175,
   "id": "current-smell",
   "metadata": {},
   "outputs": [
    {
     "data": {
      "text/plain": [
       "['bn', 2]"
      ]
     },
     "execution_count": 175,
     "metadata": {},
     "output_type": "execute_result"
    }
   ],
   "source": [
    "['bn', 2]"
   ]
  },
  {
   "cell_type": "code",
   "execution_count": 174,
   "id": "indian-surprise",
   "metadata": {},
   "outputs": [
    {
     "data": {
      "text/plain": [
       "{'operation': 'RSHIFT', 'input_list': ['bn', '2']}"
      ]
     },
     "execution_count": 174,
     "metadata": {},
     "output_type": "execute_result"
    }
   ],
   "source": [
    "circuit['bo']"
   ]
  },
  {
   "cell_type": "code",
   "execution_count": null,
   "id": "experienced-trick",
   "metadata": {},
   "outputs": [],
   "source": [
    "def find_signal_jimmy(input_list, operation):\n",
    "    \"\"\"input_list: list of strings\n",
    "    \"\"\"\n",
    "    \n",
    "    # valid operations: RSHIFT, LSHIFT, AND, OR, NOT, START\n",
    "    \n",
    "    \n",
    "    if operation == \"RAW_INPUT\" :\n",
    "        return input_list[0]\n",
    "    elif operation == \"AND\"\n",
    "        return int(input_list[0]) & int(input_list[1])\n",
    "    elif operation == \"RSHIFT\"\n",
    "        return find_signal\n",
    "    else:\n",
    "        signal = eval(symbol_list[i] + input_signal[0])\n",
    "    return signal"
   ]
  },
  {
   "cell_type": "code",
   "execution_count": 170,
   "id": "juvenile-conclusion",
   "metadata": {},
   "outputs": [
    {
     "data": {
      "text/plain": [
       "False"
      ]
     },
     "execution_count": 170,
     "metadata": {},
     "output_type": "execute_result"
    }
   ],
   "source": [
    "def find_signal(input_list, operation):\n",
    "    \"\"\"input_list: list of strings\n",
    "    \"\"\"\n",
    "    \n",
    "    # valid operations: RSHIFT, LSHIFT, AND, OR, NOT, RAW_INPUT\n",
    "    \n",
    "    \n",
    "    if operation == \"RAW_INPUT\" & isinstance(input_list[0], int):\n",
    "        return input_list[0]\n",
    "    elif operation == \"RAW_INPUT\" & isinstance(input_list[0], str):\n",
    "        return find_signal(circuit[input_list[0]])\n",
    "    elif operation in [\"RSHIFT\", \"LSHIFT\", \"AND\", \"OR\"] & isinstance(input_list[1], int)\n",
    "        return int(input_list[0]) & int(input_list[1])\n",
    "    elif operation == \"RSHIFT\"\n",
    "        return find_signal\n",
    "    else:\n",
    "        signal = eval(symbol_list[i] + input_signal[0])\n",
    "    return signal"
   ]
  },
  {
   "cell_type": "code",
   "execution_count": null,
   "id": "greek-reminder",
   "metadata": {},
   "outputs": [],
   "source": [
    "# factorial(3)\n",
    "3 * (2 * 1)\n",
    "\n",
    "def factorial(n):\n",
    "    if n == 1:\n",
    "        return 1\n",
    "    else:\n",
    "        return n * factorial(n-1)"
   ]
  },
  {
   "cell_type": "code",
   "execution_count": 97,
   "id": "descending-detection",
   "metadata": {},
   "outputs": [
    {
     "data": {
      "text/plain": [
       "3348"
      ]
     },
     "execution_count": 97,
     "metadata": {},
     "output_type": "execute_result"
    }
   ],
   "source": [
    "find_signal([\"1674\", \"1\"], \"LSHIFT\")"
   ]
  },
  {
   "cell_type": "code",
   "execution_count": 113,
   "id": "operating-dinner",
   "metadata": {},
   "outputs": [
    {
     "data": {
      "text/plain": [
       "-9"
      ]
     },
     "execution_count": 113,
     "metadata": {},
     "output_type": "execute_result"
    }
   ],
   "source": [
    "eval(\"~8\")"
   ]
  },
  {
   "cell_type": "code",
   "execution_count": 114,
   "id": "expanded-relation",
   "metadata": {},
   "outputs": [
    {
     "data": {
      "text/plain": [
       "-9"
      ]
     },
     "execution_count": 114,
     "metadata": {},
     "output_type": "execute_result"
    }
   ],
   "source": [
    "~8"
   ]
  },
  {
   "cell_type": "code",
   "execution_count": 99,
   "id": "ethical-definition",
   "metadata": {},
   "outputs": [
    {
     "data": {
      "text/plain": [
       "-9"
      ]
     },
     "execution_count": 99,
     "metadata": {},
     "output_type": "execute_result"
    }
   ],
   "source": [
    "find_signal(['8'], \"NOT\")"
   ]
  },
  {
   "cell_type": "code",
   "execution_count": 107,
   "id": "powered-membrane",
   "metadata": {},
   "outputs": [],
   "source": [
    "# need to find the input and operation for each line\n",
    "\n",
    "def parse_lines(line):\n",
    "    word_list = [\"RSHIFT\", \"LSHIFT\", \"AND\", \"OR\", \"NOT\"]\n",
    "    for word in word_list:\n",
    "        if word in line:\n",
    "            op = word\n",
    "    input_signal = re.findall(\"\\w+\", line.replace(op, \" \"))        \n",
    "    return op, input_signal[:len(input_signal)-1]"
   ]
  },
  {
   "cell_type": "code",
   "execution_count": 109,
   "id": "friendly-occasions",
   "metadata": {},
   "outputs": [],
   "source": [
    "op, input_signal = parse_lines(\"bo LSHIFT bn -> a\")"
   ]
  },
  {
   "cell_type": "code",
   "execution_count": null,
   "id": "united-rebound",
   "metadata": {},
   "outputs": [],
   "source": [
    "def search_circuit(my_input):\n",
    "    for line in my_input:\n",
    "        op, input_signal = parse_lines(line)\n",
    "        find_signal(input_signal, op)"
   ]
  },
  {
   "cell_type": "code",
   "execution_count": 112,
   "id": "endless-military",
   "metadata": {},
   "outputs": [
    {
     "data": {
      "text/plain": [
       "('AND', ['b', 'n'])"
      ]
     },
     "execution_count": 112,
     "metadata": {},
     "output_type": "execute_result"
    }
   ],
   "source": [
    "parse_lines('b AND n -> p\\n')"
   ]
  },
  {
   "cell_type": "code",
   "execution_count": null,
   "id": "asian-vanilla",
   "metadata": {},
   "outputs": [],
   "source": []
  }
 ],
 "metadata": {
  "kernelspec": {
   "display_name": "Python 3",
   "language": "python",
   "name": "python3"
  },
  "language_info": {
   "codemirror_mode": {
    "name": "ipython",
    "version": 3
   },
   "file_extension": ".py",
   "mimetype": "text/x-python",
   "name": "python",
   "nbconvert_exporter": "python",
   "pygments_lexer": "ipython3",
   "version": "3.9.1"
  }
 },
 "nbformat": 4,
 "nbformat_minor": 5
}
