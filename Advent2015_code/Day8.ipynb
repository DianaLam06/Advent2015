{
 "cells": [
  {
   "cell_type": "code",
   "execution_count": 1,
   "id": "virtual-convert",
   "metadata": {},
   "outputs": [],
   "source": [
    "import re"
   ]
  },
  {
   "cell_type": "code",
   "execution_count": 2,
   "id": "wound-mexico",
   "metadata": {},
   "outputs": [],
   "source": [
    "with open(\"../Advent2015_input/Day8.txt\", \"r\") as file:\n",
    "    day8_input = file.read().splitlines()"
   ]
  },
  {
   "cell_type": "code",
   "execution_count": 173,
   "id": "chinese-blond",
   "metadata": {},
   "outputs": [],
   "source": [
    "def char_code(str_):\n",
    "    return(len(str_))"
   ]
  },
  {
   "cell_type": "code",
   "execution_count": 174,
   "id": "sensitive-opinion",
   "metadata": {},
   "outputs": [],
   "source": [
    "def char_memory(str_):\n",
    "    x = len(eval(str_))\n",
    "    return(x)"
   ]
  },
  {
   "cell_type": "code",
   "execution_count": null,
   "id": "featured-address",
   "metadata": {},
   "outputs": [],
   "source": [
    "# actual string: \"v\\xfb\\\"lgs\\\"kvjfywmut\\x9cr\"\n",
    "# how string is represented in python: '\"v\\\\xfb\\\\\"lgs\\\\\"kvjfywmut\\\\x9cr\"'\n",
    "# how string is evaluated in python: 'vû\"lgs\"kvjfywmut\\x9cr' \n",
    "# how string is printed in python: '\"v\\\\xfb\\\\\"lgs\\\\\"kvjfywmut\\\\x9cr\"'\n",
    "# shouldn't this last one be a special ascii\n"
   ]
  },
  {
   "cell_type": "code",
   "execution_count": 136,
   "id": "unique-extraction",
   "metadata": {},
   "outputs": [
    {
     "data": {
      "text/plain": [
       "1342"
      ]
     },
     "execution_count": 136,
     "metadata": {},
     "output_type": "execute_result"
    }
   ],
   "source": [
    "sum([char_code(str_) - char_memory(str_) for str_ in day8_input])"
   ]
  },
  {
   "cell_type": "code",
   "execution_count": 137,
   "id": "dedicated-ownership",
   "metadata": {},
   "outputs": [
    {
     "data": {
      "text/plain": [
       "28"
      ]
     },
     "execution_count": 137,
     "metadata": {},
     "output_type": "execute_result"
    }
   ],
   "source": [
    "char_code(day8_input[1])"
   ]
  },
  {
   "cell_type": "code",
   "execution_count": 138,
   "id": "graduate-spain",
   "metadata": {},
   "outputs": [
    {
     "data": {
      "text/plain": [
       "18"
      ]
     },
     "execution_count": 138,
     "metadata": {},
     "output_type": "execute_result"
    }
   ],
   "source": [
    "char_memory(day8_input[1])"
   ]
  },
  {
   "cell_type": "code",
   "execution_count": null,
   "id": "funded-saying",
   "metadata": {},
   "outputs": [],
   "source": [
    "\"v\\\\xfb\\\\\"lgs\\\\\"kvjfywmut\\\\x9cr\""
   ]
  },
  {
   "cell_type": "code",
   "execution_count": 140,
   "id": "statutory-string",
   "metadata": {},
   "outputs": [
    {
     "data": {
      "text/plain": [
       "'\"v\\\\xfb\\\\\"lgs\\\\\"kvjfywmut\\\\x9cr\"'"
      ]
     },
     "execution_count": 140,
     "metadata": {},
     "output_type": "execute_result"
    }
   ],
   "source": [
    "day8_input[1]"
   ]
  },
  {
   "cell_type": "code",
   "execution_count": null,
   "id": "neutral-embassy",
   "metadata": {},
   "outputs": [],
   "source": [
    "vû\"lgs\"kvjfywmut\\x9cr"
   ]
  },
  {
   "cell_type": "code",
   "execution_count": 139,
   "id": "collectible-money",
   "metadata": {},
   "outputs": [
    {
     "data": {
      "text/plain": [
       "'vû\"lgs\"kvjfywmut\\x9cr'"
      ]
     },
     "execution_count": 139,
     "metadata": {},
     "output_type": "execute_result"
    }
   ],
   "source": [
    "eval(day8_input[1])"
   ]
  },
  {
   "cell_type": "code",
   "execution_count": 147,
   "id": "banned-soviet",
   "metadata": {},
   "outputs": [
    {
     "data": {
      "text/plain": [
       "34"
      ]
     },
     "execution_count": 147,
     "metadata": {},
     "output_type": "execute_result"
    }
   ],
   "source": [
    "len(r\"%r\" % day8_input[1])"
   ]
  },
  {
   "cell_type": "code",
   "execution_count": 148,
   "id": "serious-oasis",
   "metadata": {},
   "outputs": [
    {
     "data": {
      "text/plain": [
       "'\\'\"v\\\\\\\\xfb\\\\\\\\\"lgs\\\\\\\\\"kvjfywmut\\\\\\\\x9cr\"\\''"
      ]
     },
     "execution_count": 148,
     "metadata": {},
     "output_type": "execute_result"
    }
   ],
   "source": [
    "r\"%r\" % day8_input[1]"
   ]
  },
  {
   "cell_type": "code",
   "execution_count": null,
   "id": "infinite-wagner",
   "metadata": {},
   "outputs": [],
   "source": [
    "\"v\\\\xfb\\\\\"lgs\\\\\"kvjfywmut\\\\x9cr\""
   ]
  },
  {
   "cell_type": "code",
   "execution_count": 160,
   "id": "marine-reaction",
   "metadata": {},
   "outputs": [],
   "source": [
    "def char_encode(str_):\n",
    "    x = len(r\"%r\" % str_)\n",
    "    print(x)\n",
    "    return(x)"
   ]
  },
  {
   "cell_type": "code",
   "execution_count": 161,
   "id": "underlying-bacon",
   "metadata": {},
   "outputs": [
    {
     "name": "stdout",
     "output_type": "stream",
     "text": [
      "4\n",
      "2\n",
      "7\n",
      "5\n",
      "11\n",
      "9\n",
      "6\n",
      "3\n"
     ]
    },
    {
     "data": {
      "text/plain": [
       "[2, 2, 2, 3]"
      ]
     },
     "execution_count": 161,
     "metadata": {},
     "output_type": "execute_result"
    }
   ],
   "source": [
    "[char_encode(str_) - char_code(str_) for str_ in test]\n",
    "# 1245 is too low\n"
   ]
  },
  {
   "cell_type": "code",
   "execution_count": 157,
   "id": "invisible-offering",
   "metadata": {},
   "outputs": [],
   "source": [
    "test = ['\"\"', '\"abc\"', '\"aaa\\\"aaa\"', '\"\\x27\"']"
   ]
  },
  {
   "cell_type": "code",
   "execution_count": null,
   "id": "adopted-production",
   "metadata": {},
   "outputs": [],
   "source": [
    "# should get [4, 4, 6, 5]"
   ]
  }
 ],
 "metadata": {
  "kernelspec": {
   "display_name": "Python 3",
   "language": "python",
   "name": "python3"
  },
  "language_info": {
   "codemirror_mode": {
    "name": "ipython",
    "version": 3
   },
   "file_extension": ".py",
   "mimetype": "text/x-python",
   "name": "python",
   "nbconvert_exporter": "python",
   "pygments_lexer": "ipython3",
   "version": "3.9.1"
  }
 },
 "nbformat": 4,
 "nbformat_minor": 5
}
