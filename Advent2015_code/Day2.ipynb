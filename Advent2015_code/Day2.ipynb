{
 "cells": [
  {
   "cell_type": "code",
   "execution_count": 1,
   "id": "sharing-survival",
   "metadata": {},
   "outputs": [],
   "source": [
    "# day 2"
   ]
  },
  {
   "cell_type": "code",
   "execution_count": 2,
   "id": "fifth-heath",
   "metadata": {},
   "outputs": [],
   "source": [
    "import re"
   ]
  },
  {
   "cell_type": "code",
   "execution_count": 3,
   "id": "quick-austria",
   "metadata": {},
   "outputs": [],
   "source": [
    "day2_file = open(\"../Advent2015_input/Day2.txt\", \"r\")"
   ]
  },
  {
   "cell_type": "code",
   "execution_count": 4,
   "id": "lined-henry",
   "metadata": {},
   "outputs": [],
   "source": [
    "day2_input = [line for line in day2_file]"
   ]
  },
  {
   "cell_type": "code",
   "execution_count": 8,
   "id": "capable-spank",
   "metadata": {},
   "outputs": [],
   "source": [
    "def get_dim(my_str):\n",
    "    dim_str = re.findall(r'\\d+', my_str)\n",
    "    dim_int = [int(elem) for elem in dim_str]\n",
    "    return(dim_int)"
   ]
  },
  {
   "cell_type": "code",
   "execution_count": 9,
   "id": "antique-tradition",
   "metadata": {},
   "outputs": [],
   "source": [
    "def get_area(my_list):\n",
    "    w = my_list[0]\n",
    "    l = my_list[1]\n",
    "    h = my_list[2]\n",
    "    area = 2*w*l + 2*w*h + 2*l*h\n",
    "    min_side = min([w*l, w*h, l*h])\n",
    "    total = area + min_side\n",
    "    return(total)"
   ]
  },
  {
   "cell_type": "code",
   "execution_count": 10,
   "id": "diverse-american",
   "metadata": {},
   "outputs": [],
   "source": [
    "def gift_wrap(my_str):\n",
    "    present_dim = get_dim(my_str)\n",
    "    paper_needed = get_area(present_dim)\n",
    "    return(paper_needed)"
   ]
  },
  {
   "cell_type": "code",
   "execution_count": 11,
   "id": "diverse-boards",
   "metadata": {},
   "outputs": [
    {
     "data": {
      "text/plain": [
       "1598415"
      ]
     },
     "execution_count": 11,
     "metadata": {},
     "output_type": "execute_result"
    }
   ],
   "source": [
    "sum([gift_wrap(x) for x in day2_input])"
   ]
  },
  {
   "cell_type": "code",
   "execution_count": 12,
   "id": "reported-morocco",
   "metadata": {},
   "outputs": [],
   "source": [
    "def ribbon_needed(my_list):\n",
    "    w = my_list[0]\n",
    "    l = my_list[1]\n",
    "    h = my_list[2]\n",
    "    \n",
    "    return(2*min([w+l, w+h, l+h]) + w*l*h)"
   ]
  },
  {
   "cell_type": "code",
   "execution_count": 13,
   "id": "precise-washer",
   "metadata": {},
   "outputs": [],
   "source": [
    "def ribbon(my_str):\n",
    "    present_dim = get_dim(my_str)\n",
    "    ribbon = ribbon_needed(present_dim)\n",
    "    return(ribbon)"
   ]
  },
  {
   "cell_type": "code",
   "execution_count": 14,
   "id": "prospective-dominant",
   "metadata": {},
   "outputs": [
    {
     "data": {
      "text/plain": [
       "3812909"
      ]
     },
     "execution_count": 14,
     "metadata": {},
     "output_type": "execute_result"
    }
   ],
   "source": [
    "sum([ribbon(my_str) for my_str in day2_input])"
   ]
  }
 ],
 "metadata": {
  "kernelspec": {
   "display_name": "Python 3",
   "language": "python",
   "name": "python3"
  },
  "language_info": {
   "codemirror_mode": {
    "name": "ipython",
    "version": 3
   },
   "file_extension": ".py",
   "mimetype": "text/x-python",
   "name": "python",
   "nbconvert_exporter": "python",
   "pygments_lexer": "ipython3",
   "version": "3.9.1"
  }
 },
 "nbformat": 4,
 "nbformat_minor": 5
}
