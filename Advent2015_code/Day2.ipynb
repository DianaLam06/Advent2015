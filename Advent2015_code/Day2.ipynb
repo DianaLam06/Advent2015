{
 "cells": [
  {
   "cell_type": "code",
   "execution_count": null,
   "id": "tropical-company",
   "metadata": {},
   "outputs": [],
   "source": [
    "# day 2"
   ]
  },
  {
   "cell_type": "code",
   "execution_count": 30,
   "id": "verbal-distinction",
   "metadata": {},
   "outputs": [],
   "source": [
    "import re"
   ]
  },
  {
   "cell_type": "code",
   "execution_count": 28,
   "id": "powerful-florida",
   "metadata": {},
   "outputs": [
    {
     "ename": "FileNotFoundError",
     "evalue": "[Errno 2] No such file or directory: 'https://adventofcode.com/2015/day/2/input'",
     "output_type": "error",
     "traceback": [
      "\u001b[0;31m---------------------------------------------------------------------------\u001b[0m",
      "\u001b[0;31mFileNotFoundError\u001b[0m                         Traceback (most recent call last)",
      "\u001b[0;32m<ipython-input-28-9e4bece40897>\u001b[0m in \u001b[0;36m<module>\u001b[0;34m\u001b[0m\n\u001b[0;32m----> 1\u001b[0;31m \u001b[0mday2_file\u001b[0m \u001b[0;34m=\u001b[0m \u001b[0mopen\u001b[0m\u001b[0;34m(\u001b[0m\u001b[0;34m\"https://adventofcode.com/2015/day/2/input\"\u001b[0m\u001b[0;34m,\u001b[0m \u001b[0;34m\"r\"\u001b[0m\u001b[0;34m)\u001b[0m\u001b[0;34m\u001b[0m\u001b[0;34m\u001b[0m\u001b[0m\n\u001b[0m",
      "\u001b[0;31mFileNotFoundError\u001b[0m: [Errno 2] No such file or directory: 'https://adventofcode.com/2015/day/2/input'"
     ]
    }
   ],
   "source": [
    "day2_file = open(\"../Advent2015_input/Day2.txt\", \"r\")"
   ]
  },
  {
   "cell_type": "code",
   "execution_count": 25,
   "id": "current-assist",
   "metadata": {},
   "outputs": [],
   "source": [
    "day2_input = [line for line in day2_file]"
   ]
  },
  {
   "cell_type": "code",
   "execution_count": 26,
   "id": "naval-walter",
   "metadata": {},
   "outputs": [],
   "source": [
    "day2_file.close()"
   ]
  },
  {
   "cell_type": "code",
   "execution_count": 33,
   "id": "banned-configuration",
   "metadata": {},
   "outputs": [],
   "source": [
    "def get_dim(my_str):\n",
    "    dim_str = re.findall(r'\\d+', my_str)\n",
    "    dim_int = [int(elem) for elem in dim_str]\n",
    "    return(dim_int)"
   ]
  },
  {
   "cell_type": "code",
   "execution_count": 38,
   "id": "uniform-upgrade",
   "metadata": {},
   "outputs": [],
   "source": [
    "def get_area(my_list):\n",
    "    w = my_list[0]\n",
    "    l = my_list[1]\n",
    "    h = my_list[2]\n",
    "    area = 2*w*l + 2*w*h + 2*l*h\n",
    "    min_side = min([w*l, w*h, l*h])\n",
    "    total = area + min_side\n",
    "    return(total)"
   ]
  },
  {
   "cell_type": "code",
   "execution_count": 40,
   "id": "black-friendship",
   "metadata": {},
   "outputs": [],
   "source": [
    "def gift_wrap(my_str):\n",
    "    present_dim = get_dim(my_str)\n",
    "    paper_needed = get_area(present_dim)\n",
    "    return(paper_needed)"
   ]
  },
  {
   "cell_type": "code",
   "execution_count": 41,
   "id": "grand-struggle",
   "metadata": {},
   "outputs": [
    {
     "data": {
      "text/plain": [
       "1598415"
      ]
     },
     "execution_count": 41,
     "metadata": {},
     "output_type": "execute_result"
    }
   ],
   "source": [
    "sum([gift_wrap(x) for x in day2_input])"
   ]
  },
  {
   "cell_type": "code",
   "execution_count": 44,
   "id": "finished-fashion",
   "metadata": {},
   "outputs": [],
   "source": [
    "def ribbon_needed(my_list):\n",
    "    w = my_list[0]\n",
    "    l = my_list[1]\n",
    "    h = my_list[2]\n",
    "    \n",
    "    return(2*min([w+l, w+h, l+h]) + w*l*h)"
   ]
  },
  {
   "cell_type": "code",
   "execution_count": 45,
   "id": "naughty-wallet",
   "metadata": {},
   "outputs": [],
   "source": [
    "def ribbon(my_str):\n",
    "    present_dim = get_dim(my_str)\n",
    "    ribbon = ribbon_needed(present_dim)\n",
    "    return(ribbon)"
   ]
  },
  {
   "cell_type": "code",
   "execution_count": 46,
   "id": "attractive-creativity",
   "metadata": {},
   "outputs": [
    {
     "data": {
      "text/plain": [
       "3812909"
      ]
     },
     "execution_count": 46,
     "metadata": {},
     "output_type": "execute_result"
    }
   ],
   "source": [
    "sum([ribbon(my_str) for my_str in day2_input])"
   ]
  },
  {
   "cell_type": "code",
   "execution_count": null,
   "id": "constitutional-niger",
   "metadata": {},
   "outputs": [],
   "source": []
  }
 ],
 "metadata": {
  "kernelspec": {
   "display_name": "Python 3",
   "language": "python",
   "name": "python3"
  },
  "language_info": {
   "codemirror_mode": {
    "name": "ipython",
    "version": 3
   },
   "file_extension": ".py",
   "mimetype": "text/x-python",
   "name": "python",
   "nbconvert_exporter": "python",
   "pygments_lexer": "ipython3",
   "version": "3.9.1"
  }
 },
 "nbformat": 4,
 "nbformat_minor": 5
}
