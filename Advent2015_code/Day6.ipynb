{
 "cells": [
  {
   "cell_type": "code",
   "execution_count": 3,
   "id": "genetic-titanium",
   "metadata": {},
   "outputs": [],
   "source": [
    "import re"
   ]
  },
  {
   "cell_type": "code",
   "execution_count": 1,
   "id": "necessary-cement",
   "metadata": {},
   "outputs": [],
   "source": [
    "day6_file = open(\"../Advent2015_input/Day6.txt\", \"r\")\n",
    "day6_input = [line for line in day6_file.readlines()]\n",
    "day6_file.close()"
   ]
  },
  {
   "cell_type": "code",
   "execution_count": 4,
   "id": "professional-schema",
   "metadata": {},
   "outputs": [
    {
     "data": {
      "text/plain": [
       "300"
      ]
     },
     "execution_count": 4,
     "metadata": {},
     "output_type": "execute_result"
    }
   ],
   "source": [
    "len(day6_input)"
   ]
  },
  {
   "cell_type": "code",
   "execution_count": 19,
   "id": "architectural-baking",
   "metadata": {},
   "outputs": [],
   "source": [
    "def turn_on(x,y, grid):\n",
    "    grid[(x,y)] = True"
   ]
  },
  {
   "cell_type": "code",
   "execution_count": 20,
   "id": "instructional-showcase",
   "metadata": {},
   "outputs": [],
   "source": [
    "def turn_off(x,y, grid):\n",
    "    grid[(x,y)] = False"
   ]
  },
  {
   "cell_type": "code",
   "execution_count": 21,
   "id": "partial-visitor",
   "metadata": {},
   "outputs": [],
   "source": [
    "def toggle(x,y, grid):\n",
    "    if grid[(x,y)]:\n",
    "        grid[(x,y)] = False\n",
    "    else:\n",
    "        grid[(x,y)] = True"
   ]
  },
  {
   "cell_type": "code",
   "execution_count": 9,
   "id": "authentic-olive",
   "metadata": {},
   "outputs": [],
   "source": [
    "grid = {(x,y):False for x in range(1000) for y in range(1000)}"
   ]
  },
  {
   "cell_type": "code",
   "execution_count": 12,
   "id": "vietnamese-runner",
   "metadata": {},
   "outputs": [],
   "source": [
    "turn_on(0,2)"
   ]
  },
  {
   "cell_type": "code",
   "execution_count": 18,
   "id": "typical-effort",
   "metadata": {},
   "outputs": [
    {
     "name": "stdout",
     "output_type": "stream",
     "text": [
      "499\n",
      "500\n"
     ]
    }
   ],
   "source": [
    "for i in range(499, 501, 1):\n",
    "    print(i)"
   ]
  },
  {
   "cell_type": "code",
   "execution_count": null,
   "id": "foreign-monkey",
   "metadata": {},
   "outputs": [],
   "source": []
  }
 ],
 "metadata": {
  "kernelspec": {
   "display_name": "Python 3",
   "language": "python",
   "name": "python3"
  },
  "language_info": {
   "codemirror_mode": {
    "name": "ipython",
    "version": 3
   },
   "file_extension": ".py",
   "mimetype": "text/x-python",
   "name": "python",
   "nbconvert_exporter": "python",
   "pygments_lexer": "ipython3",
   "version": "3.9.1"
  }
 },
 "nbformat": 4,
 "nbformat_minor": 5
}
