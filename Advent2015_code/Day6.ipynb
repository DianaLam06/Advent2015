{
 "cells": [
  {
   "cell_type": "code",
   "execution_count": 24,
   "id": "known-trinidad",
   "metadata": {},
   "outputs": [],
   "source": [
    "import re"
   ]
  },
  {
   "cell_type": "code",
   "execution_count": 25,
   "id": "fourth-wrist",
   "metadata": {},
   "outputs": [],
   "source": [
    "day6_file = open(\"../Advent2015_input/Day6.txt\", \"r\")\n",
    "day6_input = [line for line in day6_file.readlines()]\n",
    "day6_file.close()"
   ]
  },
  {
   "cell_type": "code",
   "execution_count": 26,
   "id": "perceived-saturday",
   "metadata": {},
   "outputs": [
    {
     "data": {
      "text/plain": [
       "300"
      ]
     },
     "execution_count": 26,
     "metadata": {},
     "output_type": "execute_result"
    }
   ],
   "source": [
    "len(day6_input)"
   ]
  },
  {
   "cell_type": "code",
   "execution_count": 27,
   "id": "printable-worship",
   "metadata": {},
   "outputs": [],
   "source": [
    "def turn_on(x,y, grid):\n",
    "    grid[(x,y)] = True"
   ]
  },
  {
   "cell_type": "code",
   "execution_count": 28,
   "id": "spectacular-mobility",
   "metadata": {},
   "outputs": [],
   "source": [
    "def turn_off(x,y, grid):\n",
    "    grid[(x,y)] = False"
   ]
  },
  {
   "cell_type": "code",
   "execution_count": 29,
   "id": "offshore-sheffield",
   "metadata": {},
   "outputs": [],
   "source": [
    "def toggle(x,y, grid):\n",
    "    if grid[(x,y)]:\n",
    "        grid[(x,y)] = False\n",
    "    else:\n",
    "        grid[(x,y)] = True"
   ]
  },
  {
   "cell_type": "code",
   "execution_count": 62,
   "id": "floating-germany",
   "metadata": {},
   "outputs": [],
   "source": [
    "grid = {(x,y):False for x in range(1000) for y in range(1000)}"
   ]
  },
  {
   "cell_type": "code",
   "execution_count": 64,
   "id": "sticky-opera",
   "metadata": {},
   "outputs": [],
   "source": [
    "def find_direction(str_, grid):\n",
    "    # very slow\n",
    "    x_start, y_start, x_end, y_end = re.findall(r'\\d+', str_)\n",
    "    x0 = int(x_start)\n",
    "    x1 = int(x_end) + 1\n",
    "    y0 = int(y_start)\n",
    "    y1 = int(y_end) + 1\n",
    "    # add 1 so that x_end can be used in a range statement\n",
    "    \n",
    "    for x in range(x0, x1):\n",
    "        for y in range(y0, y1):\n",
    "            if len(re.findall(r'^turn on', str_)) == 1:\n",
    "                turn_on(x, y, grid)\n",
    "            elif len(re.findall(r'^turn off', str_)) == 1:\n",
    "                turn_off(x, y, grid)\n",
    "            elif len(re.findall(r'^toggle', str_)) == 1:\n",
    "                toggle(x, y, grid)\n",
    "    "
   ]
  },
  {
   "cell_type": "code",
   "execution_count": 65,
   "id": "burning-bookmark",
   "metadata": {},
   "outputs": [],
   "source": [
    "for str_ in day6_input:\n",
    "    find_direction(str_, grid)"
   ]
  },
  {
   "cell_type": "code",
   "execution_count": 66,
   "id": "living-chorus",
   "metadata": {},
   "outputs": [
    {
     "data": {
      "text/plain": [
       "400410"
      ]
     },
     "execution_count": 66,
     "metadata": {},
     "output_type": "execute_result"
    }
   ],
   "source": [
    "sum(grid.values())"
   ]
  },
  {
   "cell_type": "code",
   "execution_count": 84,
   "id": "western-raising",
   "metadata": {},
   "outputs": [],
   "source": [
    "#  part 2 grid is numeric\n",
    "grid = {(x,y):0 for x in range(1000) for y in range(1000)}"
   ]
  },
  {
   "cell_type": "code",
   "execution_count": 85,
   "id": "current-premium",
   "metadata": {},
   "outputs": [],
   "source": [
    "def turn_on2(x,y, grid):\n",
    "    grid[(x,y)]+=1"
   ]
  },
  {
   "cell_type": "code",
   "execution_count": 86,
   "id": "flexible-twelve",
   "metadata": {},
   "outputs": [],
   "source": [
    "def turn_off2(x,y, grid):\n",
    "    grid[(x,y)] = max(grid[(x,y)]-1, 0)"
   ]
  },
  {
   "cell_type": "code",
   "execution_count": 87,
   "id": "fundamental-kruger",
   "metadata": {},
   "outputs": [],
   "source": [
    "def toggle2(x,y, grid):\n",
    "    grid[(x,y)] +=2"
   ]
  },
  {
   "cell_type": "code",
   "execution_count": 88,
   "id": "gorgeous-transparency",
   "metadata": {},
   "outputs": [],
   "source": [
    "def find_direction2(str_, grid):\n",
    "    # very slow\n",
    "    x_start, y_start, x_end, y_end = re.findall(r'\\d+', str_)\n",
    "    x0 = int(x_start)\n",
    "    x1 = int(x_end) + 1\n",
    "    y0 = int(y_start)\n",
    "    y1 = int(y_end) + 1\n",
    "    # add 1 so that x_end can be used in a range statement\n",
    "    \n",
    "    for x in range(x0, x1):\n",
    "        for y in range(y0, y1):\n",
    "            if len(re.findall(r'^turn on', str_)) == 1:\n",
    "                turn_on2(x, y, grid)\n",
    "            elif len(re.findall(r'^turn off', str_)) == 1:\n",
    "                turn_off2(x, y, grid)\n",
    "            elif len(re.findall(r'^toggle', str_)) == 1:\n",
    "                toggle2(x, y, grid)\n",
    "    "
   ]
  },
  {
   "cell_type": "code",
   "execution_count": 79,
   "id": "occasional-million",
   "metadata": {},
   "outputs": [
    {
     "name": "stdout",
     "output_type": "stream",
     "text": [
      "{(0, 0): 1, (0, 1): 1, (0, 2): 1, (0, 3): 0, (0, 4): 0, (1, 0): 1, (1, 1): 1, (1, 2): 1, (1, 3): 0, (1, 4): 0, (2, 0): 1, (2, 1): 1, (2, 2): 1, (2, 3): 0, (2, 4): 0, (3, 0): 0, (3, 1): 0, (3, 2): 0, (3, 3): 0, (3, 4): 0, (4, 0): 0, (4, 1): 0, (4, 2): 0, (4, 3): 0, (4, 4): 0}\n",
      "{(0, 0): 0, (0, 1): 0, (0, 2): 1, (0, 3): 0, (0, 4): 0, (1, 0): 0, (1, 1): 0, (1, 2): 1, (1, 3): 0, (1, 4): 0, (2, 0): 1, (2, 1): 1, (2, 2): 1, (2, 3): 0, (2, 4): 0, (3, 0): 0, (3, 1): 0, (3, 2): 0, (3, 3): 0, (3, 4): 0, (4, 0): 0, (4, 1): 0, (4, 2): 0, (4, 3): 0, (4, 4): 0}\n",
      "{(0, 0): 2, (0, 1): 2, (0, 2): 3, (0, 3): 0, (0, 4): 0, (1, 0): 0, (1, 1): 0, (1, 2): 1, (1, 3): 0, (1, 4): 0, (2, 0): 1, (2, 1): 1, (2, 2): 1, (2, 3): 0, (2, 4): 0, (3, 0): 0, (3, 1): 0, (3, 2): 0, (3, 3): 0, (3, 4): 0, (4, 0): 0, (4, 1): 0, (4, 2): 0, (4, 3): 0, (4, 4): 0}\n"
     ]
    },
    {
     "data": {
      "text/plain": [
       "[None, None, None]"
      ]
     },
     "execution_count": 79,
     "metadata": {},
     "output_type": "execute_result"
    }
   ],
   "source": [
    "[find_direction2(str_, grid) for str_ in ['turn on 0,0 to 2, 2', 'turn off 0, 0 to 1, 1', 'toggle 0,0 to 0,2']]"
   ]
  },
  {
   "cell_type": "code",
   "execution_count": 89,
   "id": "chemical-blair",
   "metadata": {},
   "outputs": [
    {
     "data": {
      "text/plain": [
       "15343601"
      ]
     },
     "execution_count": 89,
     "metadata": {},
     "output_type": "execute_result"
    }
   ],
   "source": [
    "for str_ in day6_input:\n",
    "    find_direction2(str_, grid)\n",
    "\n",
    "sum(grid.values())"
   ]
  },
  {
   "cell_type": "code",
   "execution_count": null,
   "id": "informed-cinema",
   "metadata": {},
   "outputs": [],
   "source": []
  }
 ],
 "metadata": {
  "kernelspec": {
   "display_name": "Python 3",
   "language": "python",
   "name": "python3"
  },
  "language_info": {
   "codemirror_mode": {
    "name": "ipython",
    "version": 3
   },
   "file_extension": ".py",
   "mimetype": "text/x-python",
   "name": "python",
   "nbconvert_exporter": "python",
   "pygments_lexer": "ipython3",
   "version": "3.9.1"
  }
 },
 "nbformat": 4,
 "nbformat_minor": 5
}
