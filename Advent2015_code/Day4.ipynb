{
 "cells": [
  {
   "cell_type": "code",
   "execution_count": 18,
   "id": "electric-canada",
   "metadata": {},
   "outputs": [],
   "source": [
    "import hashlib\n",
    "import re"
   ]
  },
  {
   "cell_type": "code",
   "execution_count": 40,
   "id": "fancy-creativity",
   "metadata": {},
   "outputs": [],
   "source": [
    "def find_hash(key):\n",
    "    num = 0\n",
    "    search = True\n",
    "    while search:\n",
    "        string = key + str(num)\n",
    "        b = str.encode(string)\n",
    "        x = hashlib.md5(b)\n",
    "        hex_ = x.hexdigest()\n",
    "        start = re.findall(r'^00000', hex_)\n",
    "        if len(start) != 0:\n",
    "            print(num)\n",
    "            search = False\n",
    "        else:\n",
    "            num+=1\n",
    "    "
   ]
  },
  {
   "cell_type": "code",
   "execution_count": 43,
   "id": "frank-payday",
   "metadata": {},
   "outputs": [
    {
     "name": "stdout",
     "output_type": "stream",
     "text": [
      "282749\n"
     ]
    }
   ],
   "source": [
    "find_hash('yzbqklnj')"
   ]
  },
  {
   "cell_type": "code",
   "execution_count": 44,
   "id": "identified-nutrition",
   "metadata": {},
   "outputs": [],
   "source": [
    "def find_hash6(key):\n",
    "    num = 0\n",
    "    search = True\n",
    "    while search:\n",
    "        string = key + str(num)\n",
    "        b = str.encode(string)\n",
    "        x = hashlib.md5(b)\n",
    "        hex_ = x.hexdigest()\n",
    "        start = re.findall(r'^000000', hex_)\n",
    "        if len(start) != 0:\n",
    "            print(num)\n",
    "            search = False\n",
    "        else:\n",
    "            num+=1"
   ]
  },
  {
   "cell_type": "code",
   "execution_count": 45,
   "id": "adjusted-strain",
   "metadata": {},
   "outputs": [
    {
     "name": "stdout",
     "output_type": "stream",
     "text": [
      "9962624\n"
     ]
    }
   ],
   "source": [
    "find_hash6('yzbqklnj')"
   ]
  },
  {
   "cell_type": "code",
   "execution_count": null,
   "id": "innovative-services",
   "metadata": {},
   "outputs": [],
   "source": []
  }
 ],
 "metadata": {
  "kernelspec": {
   "display_name": "Python 3",
   "language": "python",
   "name": "python3"
  },
  "language_info": {
   "codemirror_mode": {
    "name": "ipython",
    "version": 3
   },
   "file_extension": ".py",
   "mimetype": "text/x-python",
   "name": "python",
   "nbconvert_exporter": "python",
   "pygments_lexer": "ipython3",
   "version": "3.9.1"
  }
 },
 "nbformat": 4,
 "nbformat_minor": 5
}
