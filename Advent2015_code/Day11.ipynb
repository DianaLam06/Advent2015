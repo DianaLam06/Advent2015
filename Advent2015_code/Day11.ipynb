{
 "cells": [
  {
   "cell_type": "code",
   "execution_count": 1,
   "id": "changing-space",
   "metadata": {},
   "outputs": [],
   "source": [
    "import re\n",
    "import string\n",
    "import itertools"
   ]
  },
  {
   "cell_type": "code",
   "execution_count": 3,
   "id": "previous-flight",
   "metadata": {},
   "outputs": [],
   "source": [
    "# may be it's better to map each letter to a number so that I can just use numbers to find things\n",
    "letter_dict = {letter:string.ascii_lowercase.index(letter) for letter in string.ascii_lowercase}"
   ]
  },
  {
   "cell_type": "code",
   "execution_count": 4,
   "id": "fancy-empty",
   "metadata": {},
   "outputs": [],
   "source": [
    "day11_input = 'cqjxjnds'"
   ]
  },
  {
   "cell_type": "code",
   "execution_count": 5,
   "id": "smaller-circle",
   "metadata": {},
   "outputs": [],
   "source": [
    "day11_index = [letter_dict[letter] for letter in day11_input]"
   ]
  },
  {
   "cell_type": "code",
   "execution_count": 6,
   "id": "functioning-minnesota",
   "metadata": {},
   "outputs": [],
   "source": [
    "def not_ilo(num_list):\n",
    "     return  not any(x in num_list for x in [letter_dict['i'], letter_dict['l'], letter_dict['o']])"
   ]
  },
  {
   "cell_type": "code",
   "execution_count": 7,
   "id": "inclusive-defense",
   "metadata": {},
   "outputs": [],
   "source": [
    "def two_pairs(num_list):\n",
    "    found = []\n",
    "    index = []\n",
    "    for i in range(len(num_list)-1):\n",
    "        if num_list[i] == num_list[i+1]:\n",
    "            found.append(True)\n",
    "            index.append(i)\n",
    "        \n",
    "    # need to make sure that there are 2 indices whose difference is 2\n",
    "    offset = False\n",
    "    if sum(found) >=2:\n",
    "        for j in itertools.combinations(index, 2):\n",
    "            if j[1]-j[0]>=2:\n",
    "                offset = True\n",
    "    \n",
    "    # also need to make sure that the paris are different\n",
    "    different = False\n",
    "    for j in itertools.combinations(index, 2):\n",
    "        if num_list[j[0]] != num_list[j[1]]:\n",
    "            different = True\n",
    "    \n",
    "    return all(found) & offset & different\n",
    "        "
   ]
  },
  {
   "cell_type": "code",
   "execution_count": 8,
   "id": "neutral-newman",
   "metadata": {},
   "outputs": [],
   "source": [
    "def increasing_straight(num_list):\n",
    "    for i in range(len(num_list)-2):\n",
    "        if ((num_list[i] == num_list[i+1] -1) & (num_list[i] == num_list[i+2] - 2)):\n",
    "            return True\n",
    "    return False"
   ]
  },
  {
   "cell_type": "code",
   "execution_count": 9,
   "id": "hawaiian-macintosh",
   "metadata": {},
   "outputs": [],
   "source": [
    "def all_conditions(num_list):\n",
    "    \n",
    "    straight = increasing_straight(num_list)\n",
    "    no_illegal = not_ilo(num_list)\n",
    "    pairs = two_pairs(num_list)\n",
    "    \n",
    "    return all([straight, no_illegal, pairs])"
   ]
  },
  {
   "cell_type": "code",
   "execution_count": 10,
   "id": "national-display",
   "metadata": {},
   "outputs": [],
   "source": [
    "def compare_lists(num_list):\n",
    "    global day11_input\n",
    "    \n",
    "    for i in range(len(day11_input)):\n",
    "        if num_list[i] > day11_index[i]: \n",
    "            return True\n",
    "        elif num_list[i] < day11_index[i]:\n",
    "            return False\n",
    "        elif num_list[i] == day11_index[i]:\n",
    "            continue\n",
    "        "
   ]
  },
  {
   "cell_type": "code",
   "execution_count": 13,
   "id": "forbidden-limitation",
   "metadata": {},
   "outputs": [
    {
     "name": "stdout",
     "output_type": "stream",
     "text": [
      "cqjxxyzz\n",
      "cqkaabcc\n",
      "cqkbbcdd\n",
      "cqkccdee\n",
      "cqkddeff\n"
     ]
    },
    {
     "ename": "KeyboardInterrupt",
     "evalue": "",
     "output_type": "error",
     "traceback": [
      "\u001b[0;31m---------------------------------------------------------------------------\u001b[0m",
      "\u001b[0;31mKeyboardInterrupt\u001b[0m                         Traceback (most recent call last)",
      "\u001b[0;32m<ipython-input-13-e1e69ba6fca7>\u001b[0m in \u001b[0;36m<module>\u001b[0;34m\u001b[0m\n\u001b[1;32m      9\u001b[0m     \u001b[0mnum_list\u001b[0m \u001b[0;34m=\u001b[0m \u001b[0mlist\u001b[0m\u001b[0;34m(\u001b[0m\u001b[0mcombo\u001b[0m\u001b[0;34m)\u001b[0m\u001b[0;34m\u001b[0m\u001b[0;34m\u001b[0m\u001b[0m\n\u001b[1;32m     10\u001b[0m     \u001b[0;32mif\u001b[0m \u001b[0mcompare_lists\u001b[0m\u001b[0;34m(\u001b[0m\u001b[0mnum_list\u001b[0m\u001b[0;34m)\u001b[0m \u001b[0;34m==\u001b[0m \u001b[0;32mTrue\u001b[0m\u001b[0;34m:\u001b[0m\u001b[0;34m\u001b[0m\u001b[0;34m\u001b[0m\u001b[0m\n\u001b[0;32m---> 11\u001b[0;31m         \u001b[0;32mif\u001b[0m \u001b[0mall_conditions\u001b[0m\u001b[0;34m(\u001b[0m\u001b[0mnum_list\u001b[0m\u001b[0;34m)\u001b[0m\u001b[0;34m:\u001b[0m\u001b[0;34m\u001b[0m\u001b[0;34m\u001b[0m\u001b[0m\n\u001b[0m\u001b[1;32m     12\u001b[0m             \u001b[0mcode\u001b[0m \u001b[0;34m=\u001b[0m \u001b[0;34m[\u001b[0m\u001b[0mstring\u001b[0m\u001b[0;34m.\u001b[0m\u001b[0mascii_lowercase\u001b[0m\u001b[0;34m[\u001b[0m\u001b[0mi\u001b[0m\u001b[0;34m]\u001b[0m \u001b[0;32mfor\u001b[0m \u001b[0mi\u001b[0m \u001b[0;32min\u001b[0m \u001b[0mnum_list\u001b[0m\u001b[0;34m]\u001b[0m\u001b[0;34m\u001b[0m\u001b[0;34m\u001b[0m\u001b[0m\n\u001b[1;32m     13\u001b[0m             \u001b[0mcode_str\u001b[0m \u001b[0;34m=\u001b[0m \u001b[0;34m\"\"\u001b[0m\u001b[0;34m.\u001b[0m\u001b[0mjoin\u001b[0m\u001b[0;34m(\u001b[0m\u001b[0mcode\u001b[0m\u001b[0;34m)\u001b[0m\u001b[0;34m\u001b[0m\u001b[0;34m\u001b[0m\u001b[0m\n",
      "\u001b[0;32m<ipython-input-9-3d32bd845500>\u001b[0m in \u001b[0;36mall_conditions\u001b[0;34m(num_list)\u001b[0m\n\u001b[1;32m      1\u001b[0m \u001b[0;32mdef\u001b[0m \u001b[0mall_conditions\u001b[0m\u001b[0;34m(\u001b[0m\u001b[0mnum_list\u001b[0m\u001b[0;34m)\u001b[0m\u001b[0;34m:\u001b[0m\u001b[0;34m\u001b[0m\u001b[0;34m\u001b[0m\u001b[0m\n\u001b[1;32m      2\u001b[0m \u001b[0;34m\u001b[0m\u001b[0m\n\u001b[0;32m----> 3\u001b[0;31m     \u001b[0mstraight\u001b[0m \u001b[0;34m=\u001b[0m \u001b[0mincreasing_straight\u001b[0m\u001b[0;34m(\u001b[0m\u001b[0mnum_list\u001b[0m\u001b[0;34m)\u001b[0m\u001b[0;34m\u001b[0m\u001b[0;34m\u001b[0m\u001b[0m\n\u001b[0m\u001b[1;32m      4\u001b[0m     \u001b[0mno_illegal\u001b[0m \u001b[0;34m=\u001b[0m \u001b[0mnot_ilo\u001b[0m\u001b[0;34m(\u001b[0m\u001b[0mnum_list\u001b[0m\u001b[0;34m)\u001b[0m\u001b[0;34m\u001b[0m\u001b[0;34m\u001b[0m\u001b[0m\n\u001b[1;32m      5\u001b[0m     \u001b[0mpairs\u001b[0m \u001b[0;34m=\u001b[0m \u001b[0mtwo_pairs\u001b[0m\u001b[0;34m(\u001b[0m\u001b[0mnum_list\u001b[0m\u001b[0;34m)\u001b[0m\u001b[0;34m\u001b[0m\u001b[0;34m\u001b[0m\u001b[0m\n",
      "\u001b[0;32m<ipython-input-8-2d73f91c7b0a>\u001b[0m in \u001b[0;36mincreasing_straight\u001b[0;34m(num_list)\u001b[0m\n\u001b[1;32m      1\u001b[0m \u001b[0;32mdef\u001b[0m \u001b[0mincreasing_straight\u001b[0m\u001b[0;34m(\u001b[0m\u001b[0mnum_list\u001b[0m\u001b[0;34m)\u001b[0m\u001b[0;34m:\u001b[0m\u001b[0;34m\u001b[0m\u001b[0;34m\u001b[0m\u001b[0m\n\u001b[1;32m      2\u001b[0m     \u001b[0;32mfor\u001b[0m \u001b[0mi\u001b[0m \u001b[0;32min\u001b[0m \u001b[0mrange\u001b[0m\u001b[0;34m(\u001b[0m\u001b[0mlen\u001b[0m\u001b[0;34m(\u001b[0m\u001b[0mnum_list\u001b[0m\u001b[0;34m)\u001b[0m\u001b[0;34m-\u001b[0m\u001b[0;36m2\u001b[0m\u001b[0;34m)\u001b[0m\u001b[0;34m:\u001b[0m\u001b[0;34m\u001b[0m\u001b[0;34m\u001b[0m\u001b[0m\n\u001b[0;32m----> 3\u001b[0;31m         \u001b[0;32mif\u001b[0m \u001b[0;34m(\u001b[0m\u001b[0;34m(\u001b[0m\u001b[0mnum_list\u001b[0m\u001b[0;34m[\u001b[0m\u001b[0mi\u001b[0m\u001b[0;34m]\u001b[0m \u001b[0;34m==\u001b[0m \u001b[0mnum_list\u001b[0m\u001b[0;34m[\u001b[0m\u001b[0mi\u001b[0m\u001b[0;34m+\u001b[0m\u001b[0;36m1\u001b[0m\u001b[0;34m]\u001b[0m \u001b[0;34m-\u001b[0m\u001b[0;36m1\u001b[0m\u001b[0;34m)\u001b[0m \u001b[0;34m&\u001b[0m \u001b[0;34m(\u001b[0m\u001b[0mnum_list\u001b[0m\u001b[0;34m[\u001b[0m\u001b[0mi\u001b[0m\u001b[0;34m]\u001b[0m \u001b[0;34m==\u001b[0m \u001b[0mnum_list\u001b[0m\u001b[0;34m[\u001b[0m\u001b[0mi\u001b[0m\u001b[0;34m+\u001b[0m\u001b[0;36m2\u001b[0m\u001b[0;34m]\u001b[0m \u001b[0;34m-\u001b[0m \u001b[0;36m2\u001b[0m\u001b[0;34m)\u001b[0m\u001b[0;34m)\u001b[0m\u001b[0;34m:\u001b[0m\u001b[0;34m\u001b[0m\u001b[0;34m\u001b[0m\u001b[0m\n\u001b[0m\u001b[1;32m      4\u001b[0m             \u001b[0;32mreturn\u001b[0m \u001b[0;32mTrue\u001b[0m\u001b[0;34m\u001b[0m\u001b[0;34m\u001b[0m\u001b[0m\n\u001b[1;32m      5\u001b[0m     \u001b[0;32mreturn\u001b[0m \u001b[0;32mFalse\u001b[0m\u001b[0;34m\u001b[0m\u001b[0;34m\u001b[0m\u001b[0m\n",
      "\u001b[0;31mKeyboardInterrupt\u001b[0m: "
     ]
    }
   ],
   "source": [
    "# seems like there should be a better way to know when to switch to the full range....\n",
    "for combo in itertools.product(range(day11_index[0], 26), \n",
    "                               range(day11_index[1], 26), \n",
    "                               range(day11_index[2], 26), \n",
    "                               range( 26), \n",
    "                              range( 26), \n",
    "                              range( 26), \n",
    "                              range( 26), \n",
    "                              range( 26) ):\n",
    "    num_list = list(combo)\n",
    "    if compare_lists(num_list) == True:\n",
    "        if all_conditions(num_list):\n",
    "            code = [string.ascii_lowercase[i] for i in num_list]\n",
    "            code_str = \"\".join(code)\n",
    "            print(code_str)"
   ]
  },
  {
   "cell_type": "code",
   "execution_count": null,
   "id": "provincial-thailand",
   "metadata": {},
   "outputs": [],
   "source": []
  }
 ],
 "metadata": {
  "kernelspec": {
   "display_name": "Python 3",
   "language": "python",
   "name": "python3"
  },
  "language_info": {
   "codemirror_mode": {
    "name": "ipython",
    "version": 3
   },
   "file_extension": ".py",
   "mimetype": "text/x-python",
   "name": "python",
   "nbconvert_exporter": "python",
   "pygments_lexer": "ipython3",
   "version": "3.9.1"
  }
 },
 "nbformat": 4,
 "nbformat_minor": 5
}
