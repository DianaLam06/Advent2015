{
 "cells": [
  {
   "cell_type": "code",
   "execution_count": 1,
   "id": "honey-beauty",
   "metadata": {},
   "outputs": [],
   "source": [
    "day10_input = '1321131112'"
   ]
  },
  {
   "cell_type": "code",
   "execution_count": 82,
   "id": "square-phenomenon",
   "metadata": {},
   "outputs": [],
   "source": [
    "def make_look_say_dict(digit_str):\n",
    "\n",
    "    digit_dict = {}\n",
    "    order_dict = {}\n",
    "    order = 0\n",
    "    lag = None\n",
    "    for digit in digit_str:\n",
    "        \n",
    "        if digit != lag:\n",
    "        \n",
    "            order_dict[order] = digit\n",
    "            count = 1\n",
    "            digit_dict[order] = 1\n",
    "            order += 1\n",
    "            lag = digit\n",
    "        else:   \n",
    "            count += 1\n",
    "            #need to go back since we've added one ot the order earlier\n",
    "            digit_dict[order - 1] = count\n",
    "            \n",
    "    return((digit_dict, order_dict))\n",
    "\n"
   ]
  },
  {
   "cell_type": "code",
   "execution_count": 83,
   "id": "therapeutic-technician",
   "metadata": {},
   "outputs": [],
   "source": [
    "# need to put together the new number\n",
    "def make_new_number(digit_dict, order_dict):\n",
    "\n",
    "    number = ''\n",
    "    for i in range(len(order_dict)):\n",
    "\n",
    "        number += str(digit_dict[i]) + order_dict[i]\n",
    "\n",
    "    return(number)"
   ]
  },
  {
   "cell_type": "code",
   "execution_count": 85,
   "id": "certain-granny",
   "metadata": {},
   "outputs": [
    {
     "data": {
      "text/plain": [
       "492982"
      ]
     },
     "execution_count": 85,
     "metadata": {},
     "output_type": "execute_result"
    }
   ],
   "source": [
    "for i in range(40):\n",
    "    if i == 0:\n",
    "        digit_str = day10_input\n",
    "\n",
    "    digit_dict, order_dict = make_look_say_dict(digit_str)\n",
    "    digit_str = make_new_number(digit_dict, order_dict)\n",
    "\n",
    "len(digit_str)   "
   ]
  },
  {
   "cell_type": "code",
   "execution_count": 86,
   "id": "worst-smell",
   "metadata": {},
   "outputs": [
    {
     "data": {
      "text/plain": [
       "6989950"
      ]
     },
     "execution_count": 86,
     "metadata": {},
     "output_type": "execute_result"
    }
   ],
   "source": [
    "for i in range(50):\n",
    "    if i == 0:\n",
    "        digit_str = day10_input\n",
    "\n",
    "    digit_dict, order_dict = make_look_say_dict(digit_str)\n",
    "    digit_str = make_new_number(digit_dict, order_dict)\n",
    "\n",
    "len(digit_str)   "
   ]
  },
  {
   "cell_type": "code",
   "execution_count": null,
   "id": "reflected-plumbing",
   "metadata": {},
   "outputs": [],
   "source": []
  }
 ],
 "metadata": {
  "kernelspec": {
   "display_name": "Python 3",
   "language": "python",
   "name": "python3"
  },
  "language_info": {
   "codemirror_mode": {
    "name": "ipython",
    "version": 3
   },
   "file_extension": ".py",
   "mimetype": "text/x-python",
   "name": "python",
   "nbconvert_exporter": "python",
   "pygments_lexer": "ipython3",
   "version": "3.9.1"
  }
 },
 "nbformat": 4,
 "nbformat_minor": 5
}
