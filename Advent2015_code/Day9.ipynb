{
 "cells": [
  {
   "cell_type": "code",
   "execution_count": 1,
   "id": "disciplinary-employment",
   "metadata": {},
   "outputs": [],
   "source": [
    "with open(\"../Advent2015_input/Day9.txt\", \"r\") as file:\n",
    "    day9_input = file.read().splitlines()"
   ]
  },
  {
   "cell_type": "code",
   "execution_count": 2,
   "id": "hungarian-accuracy",
   "metadata": {},
   "outputs": [],
   "source": [
    "import re\n",
    "import itertools"
   ]
  },
  {
   "cell_type": "code",
   "execution_count": 3,
   "id": "ultimate-regression",
   "metadata": {},
   "outputs": [],
   "source": [
    "def find_city_pairs(str_):\n",
    "    pairs = re.split(r' to | = ', str_)[:2] \n",
    "    return(pairs)"
   ]
  },
  {
   "cell_type": "code",
   "execution_count": 4,
   "id": "opposite-spray",
   "metadata": {},
   "outputs": [],
   "source": [
    "def find_unique_cities(input_list):\n",
    "    pairs = [find_city_pairs(str_) for str_ in input_list]\n",
    "    flat_pairs = [item for sublist in pairs for item in sublist]\n",
    "    unique = list(set(flat_pairs))\n",
    "    return(unique)\n",
    "    "
   ]
  },
  {
   "cell_type": "code",
   "execution_count": 5,
   "id": "social-polymer",
   "metadata": {},
   "outputs": [],
   "source": [
    "cities = find_unique_cities(day9_input)"
   ]
  },
  {
   "cell_type": "code",
   "execution_count": 6,
   "id": "destroyed-blink",
   "metadata": {},
   "outputs": [],
   "source": [
    "# 8 cities, 40,000+ permutations"
   ]
  },
  {
   "cell_type": "code",
   "execution_count": 7,
   "id": "classical-alarm",
   "metadata": {},
   "outputs": [],
   "source": [
    "# make a dictionary of distances\n",
    "def get_distance(str_):\n",
    "    distance = re.split(r' to | = ', str_)[2] \n",
    "    return(int(distance))"
   ]
  },
  {
   "cell_type": "code",
   "execution_count": 8,
   "id": "answering-tiger",
   "metadata": {},
   "outputs": [],
   "source": [
    "distance_dict = {tuple(find_city_pairs(str_)): get_distance(str_) for str_ in day9_input}\n",
    "# need to get the reverse city order too\n",
    "distance_dict.update({tuple(find_city_pairs(str_)[::-1]): get_distance(str_) for str_ in day9_input})\n",
    "    "
   ]
  },
  {
   "cell_type": "code",
   "execution_count": 9,
   "id": "dimensional-happiness",
   "metadata": {},
   "outputs": [],
   "source": [
    "def distance_per_combo(combo):\n",
    "    city_link = [(combo[i], combo[i+1]) for i in range(len(combo) - 1)]\n",
    "    distance = sum([distance_dict[pair] for pair in city_link])\n",
    "    return(distance)"
   ]
  },
  {
   "cell_type": "code",
   "execution_count": 10,
   "id": "unique-chick",
   "metadata": {},
   "outputs": [],
   "source": [
    "distances = []\n",
    "for combo in itertools.permutations(cities, len(cities)):\n",
    "    distances.append(distance_per_combo(combo))\n",
    "    "
   ]
  },
  {
   "cell_type": "code",
   "execution_count": 11,
   "id": "viral-mortality",
   "metadata": {},
   "outputs": [
    {
     "data": {
      "text/plain": [
       "207"
      ]
     },
     "execution_count": 11,
     "metadata": {},
     "output_type": "execute_result"
    }
   ],
   "source": [
    "min(distances)"
   ]
  },
  {
   "cell_type": "code",
   "execution_count": 12,
   "id": "devoted-junction",
   "metadata": {},
   "outputs": [],
   "source": [
    "# part 2"
   ]
  },
  {
   "cell_type": "code",
   "execution_count": 13,
   "id": "static-section",
   "metadata": {},
   "outputs": [
    {
     "data": {
      "text/plain": [
       "804"
      ]
     },
     "execution_count": 13,
     "metadata": {},
     "output_type": "execute_result"
    }
   ],
   "source": [
    "max(distances)"
   ]
  }
 ],
 "metadata": {
  "kernelspec": {
   "display_name": "Python 3",
   "language": "python",
   "name": "python3"
  },
  "language_info": {
   "codemirror_mode": {
    "name": "ipython",
    "version": 3
   },
   "file_extension": ".py",
   "mimetype": "text/x-python",
   "name": "python",
   "nbconvert_exporter": "python",
   "pygments_lexer": "ipython3",
   "version": "3.9.1"
  }
 },
 "nbformat": 4,
 "nbformat_minor": 5
}
