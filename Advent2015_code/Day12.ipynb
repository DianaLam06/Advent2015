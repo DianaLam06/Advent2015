{
 "cells": [
  {
   "cell_type": "code",
   "execution_count": 1,
   "id": "celtic-manitoba",
   "metadata": {},
   "outputs": [],
   "source": [
    "with open(\"../Advent2015_input/Day12.txt\", \"r\") as file:\n",
    "    day12_input = file.readlines()"
   ]
  },
  {
   "cell_type": "code",
   "execution_count": 15,
   "id": "perfect-sydney",
   "metadata": {},
   "outputs": [],
   "source": [
    "import re\n",
    "import json"
   ]
  },
  {
   "cell_type": "code",
   "execution_count": 12,
   "id": "close-karaoke",
   "metadata": {},
   "outputs": [
    {
     "data": {
      "text/plain": [
       "111754"
      ]
     },
     "execution_count": 12,
     "metadata": {},
     "output_type": "execute_result"
    }
   ],
   "source": [
    "sum([int(x) for x in re.findall(r'-*\\d+', day12_input[0])])"
   ]
  },
  {
   "cell_type": "code",
   "execution_count": 16,
   "id": "egyptian-printer",
   "metadata": {},
   "outputs": [],
   "source": [
    "with open(\"../Advent2015_input/Day12.json\") as file:\n",
    "    data = json.load(file)"
   ]
  },
  {
   "cell_type": "code",
   "execution_count": 26,
   "id": "certified-uncertainty",
   "metadata": {},
   "outputs": [],
   "source": [
    "def depth(l):\n",
    "    if isinstance(l, list):\n",
    "        return 1 + max(depth(item) for item in l)\n",
    "    else:\n",
    "        return 0"
   ]
  },
  {
   "cell_type": "code",
   "execution_count": 23,
   "id": "detailed-intake",
   "metadata": {},
   "outputs": [
    {
     "data": {
      "text/plain": [
       "dict_keys(['e', 'c', 'a', 'b', 'd', 'f'])"
      ]
     },
     "execution_count": 23,
     "metadata": {},
     "output_type": "execute_result"
    }
   ],
   "source": [
    "data.keys()"
   ]
  },
  {
   "cell_type": "code",
   "execution_count": 28,
   "id": "nutritional-shelter",
   "metadata": {},
   "outputs": [
    {
     "name": "stdout",
     "output_type": "stream",
     "text": [
      "6\n",
      "1\n",
      "0\n",
      "6\n",
      "5\n",
      "0\n"
     ]
    }
   ],
   "source": [
    "for key in data:\n",
    "    print(depth(data[key]))"
   ]
  },
  {
   "cell_type": "code",
   "execution_count": null,
   "id": "eligible-concord",
   "metadata": {},
   "outputs": [],
   "source": [
    "data[]"
   ]
  }
 ],
 "metadata": {
  "kernelspec": {
   "display_name": "Python 3",
   "language": "python",
   "name": "python3"
  },
  "language_info": {
   "codemirror_mode": {
    "name": "ipython",
    "version": 3
   },
   "file_extension": ".py",
   "mimetype": "text/x-python",
   "name": "python",
   "nbconvert_exporter": "python",
   "pygments_lexer": "ipython3",
   "version": "3.9.1"
  }
 },
 "nbformat": 4,
 "nbformat_minor": 5
}
