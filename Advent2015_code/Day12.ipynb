{
 "cells": [
  {
   "cell_type": "code",
   "execution_count": 1,
   "id": "practical-doctor",
   "metadata": {},
   "outputs": [],
   "source": [
    "with open(\"../Advent2015_input/Day12.txt\", \"r\") as file:\n",
    "    day12_input = file.readlines()"
   ]
  },
  {
   "cell_type": "code",
   "execution_count": 2,
   "id": "governing-information",
   "metadata": {},
   "outputs": [],
   "source": [
    "import re\n",
    "import json"
   ]
  },
  {
   "cell_type": "code",
   "execution_count": 12,
   "id": "violent-maldives",
   "metadata": {},
   "outputs": [
    {
     "data": {
      "text/plain": [
       "111754"
      ]
     },
     "execution_count": 12,
     "metadata": {},
     "output_type": "execute_result"
    }
   ],
   "source": [
    "sum([int(x) for x in re.findall(r'-*\\d+', day12_input[0])])"
   ]
  },
  {
   "cell_type": "code",
   "execution_count": 3,
   "id": "comfortable-paste",
   "metadata": {},
   "outputs": [],
   "source": [
    "with open(\"../Advent2015_input/Day12.json\") as file:\n",
    "    data = json.load(file)"
   ]
  },
  {
   "cell_type": "code",
   "execution_count": 38,
   "id": "opposite-pierre",
   "metadata": {},
   "outputs": [],
   "source": [
    "# key: \n",
    "#     total defined outside function\n",
    "#     keep calling the function until you get to the lowest level (ie integer)\n",
    "#     only then update total\n",
    "\n",
    "def find_integers(Obj):\n",
    "    global total\n",
    "    if isinstance(Obj, dict):\n",
    "        if \"red\" not in Obj.values():\n",
    "            for key in Obj.keys():\n",
    "                find_integers(Obj[key])\n",
    "    elif isinstance(Obj, list):\n",
    "        for x in Obj:\n",
    "            find_integers(x)\n",
    "    elif isinstance(Obj, int):\n",
    "        total += Obj"
   ]
  },
  {
   "cell_type": "code",
   "execution_count": 41,
   "id": "sacred-attraction",
   "metadata": {},
   "outputs": [
    {
     "data": {
      "text/plain": [
       "65402"
      ]
     },
     "execution_count": 41,
     "metadata": {},
     "output_type": "execute_result"
    }
   ],
   "source": [
    "total=0 # needs to be defined outside of function\n",
    "find_integers(data)\n",
    "total"
   ]
  }
 ],
 "metadata": {
  "kernelspec": {
   "display_name": "Python 3",
   "language": "python",
   "name": "python3"
  },
  "language_info": {
   "codemirror_mode": {
    "name": "ipython",
    "version": 3
   },
   "file_extension": ".py",
   "mimetype": "text/x-python",
   "name": "python",
   "nbconvert_exporter": "python",
   "pygments_lexer": "ipython3",
   "version": "3.9.1"
  }
 },
 "nbformat": 4,
 "nbformat_minor": 5
}
