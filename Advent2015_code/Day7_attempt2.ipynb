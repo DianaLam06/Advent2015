{
 "cells": [
  {
   "cell_type": "code",
   "execution_count": 26,
   "id": "spare-unemployment",
   "metadata": {},
   "outputs": [],
   "source": [
    "import re\n",
    "import numpy\n",
    "\n",
    "from time import sleep"
   ]
  },
  {
   "cell_type": "code",
   "execution_count": 2,
   "id": "biblical-hebrew",
   "metadata": {},
   "outputs": [],
   "source": [
    "with open(\"../Advent2015_input/Day7.txt\", \"r\") as file:\n",
    "    day7_input = file.readlines()"
   ]
  },
  {
   "cell_type": "code",
   "execution_count": 58,
   "id": "medieval-drill",
   "metadata": {},
   "outputs": [],
   "source": [
    "# jimmy's test cell\n",
    "\n",
    "class day7_jimmy:\n",
    "    def __init__(self):  \n",
    "        self.circuit = {}\n",
    "        self.known = {}\n",
    "    \n",
    "    def parse_lines(self, line):\n",
    "\n",
    "        word_list = [\"RSHIFT\", \"LSHIFT\", \"AND\", \"OR\", \"NOT\"]\n",
    "        op = \"ASSIGN\" # could be wire assigned to another wire\n",
    "        for word in word_list:\n",
    "            if word in line:\n",
    "                op = word\n",
    "                break\n",
    "            elif len(re.findall(\"^\\d+\", line)) == 1:\n",
    "                op = \"RAW_INPUT\"\n",
    "\n",
    "        wires = re.findall(\"\\w+\", line.replace(op, \" \"))\n",
    "\n",
    "        if op in word_list + ['ASSIGN']:\n",
    "            self.circuit[wires[-1]] = {'operation': op, 'input_list': wires[:len(wires)-1]}\n",
    "        elif op == \"RAW_INPUT\":\n",
    "            self.circuit[wires[-1]] = {'operation': op, 'input_list': [int(wires[0])]}\n",
    "    \n",
    "    def find_signal(self, wire):\n",
    "                \n",
    "#         sleep(0.1)\n",
    "#         print(\"finding signal at wire {}\".format(wire))\n",
    "        \n",
    "        try:\n",
    "            int(wire)\n",
    "            return(int(wire))\n",
    "\n",
    "        except:\n",
    "            pass\n",
    "\n",
    "        if wire in self.known:\n",
    "#             print(\"found signal for wire {}\".format(wire))\n",
    "            return self.known[wire]\n",
    "        \n",
    "        operation = self.circuit[wire]['operation']\n",
    "        input_list = self.circuit[wire]['input_list']\n",
    "\n",
    "\n",
    "        if operation == \"RAW_INPUT\":\n",
    "            x = input_list[0]\n",
    "        elif operation == \"ASSIGN\":\n",
    "            x = self.find_signal(input_list[0])\n",
    "        elif operation == \"RSHIFT\":\n",
    "            x = self.find_signal(input_list[0]) >> self.find_signal(input_list[1])\n",
    "        elif operation == \"LSHIFT\":\n",
    "            x = self.find_signal(input_list[0]) << self.find_signal(input_list[1])\n",
    "        elif operation == \"AND\":\n",
    "            x = self.find_signal(input_list[0]) & self.find_signal(input_list[1])\n",
    "        elif operation == \"OR\":\n",
    "            x = self.find_signal(input_list[0]) | self.find_signal(input_list[1])\n",
    "        elif operation == \"NOT\":\n",
    "            x = numpy.uint16(~self.find_signal(input_list[0]))\n",
    "\n",
    "        # will only reach here if the wire is completely resolved\n",
    "        self.known[wire] = x\n",
    "#         print(\"resolved wire {}\".format(wire))\n",
    "\n",
    "        return x\n"
   ]
  },
  {
   "cell_type": "code",
   "execution_count": 41,
   "id": "independent-recruitment",
   "metadata": {},
   "outputs": [],
   "source": [
    "class day7:\n",
    "    def __init__(self):  \n",
    "        self.circuit = {}\n",
    "        self.known = {}\n",
    "    \n",
    "    def parse_lines(self, line):\n",
    "\n",
    "        word_list = [\"RSHIFT\", \"LSHIFT\", \"AND\", \"OR\", \"NOT\"]\n",
    "        op = \"ASSIGN\" # could be wire assigned to another wire\n",
    "        for word in word_list:\n",
    "            if word in line:\n",
    "                op = word\n",
    "                break\n",
    "            elif len(re.findall(\"^\\d+\", line)) == 1:\n",
    "                op = \"RAW_INPUT\"\n",
    "\n",
    "        wires = re.findall(\"\\w+\", line.replace(op, \" \"))\n",
    "\n",
    "        if op in word_list + ['ASSIGN']:\n",
    "            self.circuit[wires[-1]] = {'operation': op, 'input_list': wires[:len(wires)-1]}\n",
    "        elif op == \"RAW_INPUT\":\n",
    "            self.circuit[wires[-1]] = {'operation': op, 'input_list': [int(wires[0])]}\n",
    "    \n",
    "    def update_known(self, wire, x):\n",
    "        if isinstance(x, int) | isinstance(x, numpy.uint16):\n",
    "            print(\"updating known wire {} with value {}\".format(wire, x))\n",
    "            self.known[wire] = x\n",
    "            # print(\"known:{}\".format(self.known))\n",
    "    \n",
    "    def check_known(self, input_):\n",
    "        \n",
    "        output_list = []\n",
    "        for i in range(len(input_)):\n",
    "            if input_[i] in self.known.keys():\n",
    "                print(\"found existing key {}\".format(self.known[input_[i]]))\n",
    "                output_list.append(self.known[input_[i]])\n",
    "            \n",
    "            else:\n",
    "                output_list.append(self.find_signal( input_[i]))\n",
    "\n",
    "        return output_list\n",
    "    \n",
    "    \n",
    "    def find_signal(self, wire):\n",
    "\n",
    "        print(\"finding signal at wire {}\".format(wire))\n",
    "        sleep(0.3)\n",
    "        \n",
    "        try:\n",
    "            int(wire)\n",
    "            return(int(wire))\n",
    "\n",
    "        except:\n",
    "            pass\n",
    "\n",
    "        operation = self.circuit[wire]['operation']\n",
    "        input_list = self.circuit[wire]['input_list']\n",
    "                                   \n",
    "        output_list = self.check_known(input_list)\n",
    "\n",
    "\n",
    "        if operation == \"RAW_INPUT\":\n",
    "            x = input_list[0]\n",
    "        elif operation == \"ASSIGN\":\n",
    "            x = output_list[0]\n",
    "        elif operation == \"RSHIFT\":\n",
    "            x = output_list[0] >> output_list[1]\n",
    "        elif operation == \"LSHIFT\":\n",
    "            x = output_list[0] << output_list[1]\n",
    "        elif operation == \"AND\":\n",
    "            x = output_list[0] & output_list[1]\n",
    "        elif operation == \"OR\":\n",
    "            x = output_list[0] | output_list[1]\n",
    "        elif operation == \"NOT\":\n",
    "            x = numpy.uint16(~output_list[0])\n",
    "\n",
    "        self.update_known(wire, x)\n",
    "\n",
    "        return x\n"
   ]
  },
  {
   "cell_type": "code",
   "execution_count": 13,
   "id": "intensive-appeal",
   "metadata": {},
   "outputs": [],
   "source": [
    "\n",
    "test2 = {'x':{'operation': 'RAW_INPUT', 'input_list':[123]}, \n",
    "        'y':{'operation': 'RAW_INPUT', 'input_list':[456]}, \n",
    "        'd':{'operation': 'AND', 'input_list':['x', 'y']}, \n",
    "        'e':{'operation': 'OR', 'input_list':['x', 'y']}, \n",
    "        'f':{'operation': 'LSHIFT', 'input_list':['x', '2']}, \n",
    "        'g':{'operation': 'RSHIFT', 'input_list':['y', '2']}, \n",
    "        'h':{'operation': 'NOT', 'input_list':['x']}, \n",
    "        'i':{'operation': 'NOT', 'input_list':['y']}}\n"
   ]
  },
  {
   "cell_type": "code",
   "execution_count": null,
   "id": "frequent-completion",
   "metadata": {},
   "outputs": [],
   "source": [
    "d = day7()\n",
    "d.circuit = test2\n",
    "\n",
    "for wire in ['d', 'e', 'f', 'g', 'h', 'i']:\n",
    "    print(wire)\n",
    "    print(d.find_signal(wire))"
   ]
  },
  {
   "cell_type": "code",
   "execution_count": 61,
   "id": "administrative-prerequisite",
   "metadata": {},
   "outputs": [
    {
     "data": {
      "text/plain": [
       "46065"
      ]
     },
     "execution_count": 61,
     "metadata": {},
     "output_type": "execute_result"
    }
   ],
   "source": [
    "e = day7_jimmy()\n",
    "\n",
    "for line in day7_input:\n",
    "    e.parse_lines(line)\n",
    "    \n",
    "e.find_signal('a')"
   ]
  },
  {
   "cell_type": "code",
   "execution_count": 69,
   "id": "christian-kingdom",
   "metadata": {},
   "outputs": [
    {
     "data": {
      "text/plain": [
       "14134"
      ]
     },
     "execution_count": 69,
     "metadata": {},
     "output_type": "execute_result"
    }
   ],
   "source": [
    "# Now, take the signal you got on wire a, override wire b to that signal, and \n",
    "# reset the other wires (including wire a). What new signal is ultimately provided to wire a?\n",
    "\n",
    "e.circuit['b'] =  {'operation': 'RAW_INPUT', 'input_list':[46065]}\n",
    "e.known = {}\n",
    "e.find_signal('a')\n"
   ]
  },
  {
   "cell_type": "code",
   "execution_count": null,
   "id": "suburban-laser",
   "metadata": {},
   "outputs": [],
   "source": []
  }
 ],
 "metadata": {
  "kernelspec": {
   "display_name": "Python 3",
   "language": "python",
   "name": "python3"
  },
  "language_info": {
   "codemirror_mode": {
    "name": "ipython",
    "version": 3
   },
   "file_extension": ".py",
   "mimetype": "text/x-python",
   "name": "python",
   "nbconvert_exporter": "python",
   "pygments_lexer": "ipython3",
   "version": "3.9.1"
  }
 },
 "nbformat": 4,
 "nbformat_minor": 5
}
