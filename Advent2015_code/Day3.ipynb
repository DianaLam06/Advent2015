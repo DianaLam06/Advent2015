{
 "cells": [
  {
   "cell_type": "code",
   "execution_count": null,
   "id": "pressing-dover",
   "metadata": {},
   "outputs": [],
   "source": [
    "# day 3"
   ]
  },
  {
   "cell_type": "code",
   "execution_count": 1,
   "id": "understood-society",
   "metadata": {},
   "outputs": [],
   "source": [
    "f = open(\"../Advent2015_input/day3.txt\", \"r\")"
   ]
  },
  {
   "cell_type": "code",
   "execution_count": 2,
   "id": "lucky-large",
   "metadata": {},
   "outputs": [],
   "source": [
    "day3_input = [line for line in f]"
   ]
  },
  {
   "cell_type": "code",
   "execution_count": 3,
   "id": "offensive-flood",
   "metadata": {},
   "outputs": [],
   "source": [
    "f.close()"
   ]
  },
  {
   "cell_type": "code",
   "execution_count": 7,
   "id": "designing-designation",
   "metadata": {},
   "outputs": [],
   "source": [
    "day3_indiv = [direction for direction in day3_input[0]]"
   ]
  },
  {
   "cell_type": "code",
   "execution_count": 34,
   "id": "innovative-alliance",
   "metadata": {},
   "outputs": [],
   "source": [
    "def get_position(start, direction):\n",
    "    '''\n",
    "    start: starting position (x,y)\n",
    "    direction: which way to go\n",
    "    returns: position of next house that santa is in\n",
    "    '''\n",
    "    if direction == '^':\n",
    "        return((start[0], start[1]+1))\n",
    "    elif direction == 'v':\n",
    "        return((start[0], start[1]-1))\n",
    "    elif direction == '<':\n",
    "        return((start[0]-1, start[1]))\n",
    "    elif direction == '>':\n",
    "        return((start[0]+1, start[1]))"
   ]
  },
  {
   "cell_type": "code",
   "execution_count": 36,
   "id": "conscious-might",
   "metadata": {},
   "outputs": [
    {
     "data": {
      "text/plain": [
       "2592"
      ]
     },
     "execution_count": 36,
     "metadata": {},
     "output_type": "execute_result"
    }
   ],
   "source": [
    "houses = [(0,0)]\n",
    "for i in range(len(day3_indiv)):\n",
    "    new_house = get_position(houses[i], day3_indiv[i])\n",
    "    houses.append(new_house)\n",
    "\n",
    "len(list(set(houses)))"
   ]
  },
  {
   "cell_type": "code",
   "execution_count": 38,
   "id": "optional-animation",
   "metadata": {},
   "outputs": [
    {
     "data": {
      "text/plain": [
       "0"
      ]
     },
     "execution_count": 38,
     "metadata": {},
     "output_type": "execute_result"
    }
   ],
   "source": [
    "4 % 2"
   ]
  },
  {
   "cell_type": "code",
   "execution_count": 53,
   "id": "found-nudist",
   "metadata": {},
   "outputs": [
    {
     "data": {
      "text/plain": [
       "2360"
      ]
     },
     "execution_count": 53,
     "metadata": {},
     "output_type": "execute_result"
    }
   ],
   "source": [
    "santa_houses = [(0,0)]\n",
    "robo_houses = [(0,0)]\n",
    "\n",
    "for i in range(len(day3_indiv)):\n",
    "    if i % 2 == 0:\n",
    "        num = int(i/2)\n",
    "        new_house = get_position(santa_houses[num], day3_indiv[i])\n",
    "        santa_houses.append(new_house)\n",
    "    elif i % 2 == 1:\n",
    "        num = int(i/2) \n",
    "        new_house = get_position(robo_houses[num], day3_indiv[i])\n",
    "        robo_houses.append(new_house)\n",
    "\n",
    "\n",
    "len(list(set(santa_houses + robo_houses)))"
   ]
  },
  {
   "cell_type": "code",
   "execution_count": 43,
   "id": "accurate-defeat",
   "metadata": {},
   "outputs": [
    {
     "data": {
      "text/plain": [
       "1"
      ]
     },
     "execution_count": 43,
     "metadata": {},
     "output_type": "execute_result"
    }
   ],
   "source": [
    "int(3/2)"
   ]
  },
  {
   "cell_type": "code",
   "execution_count": null,
   "id": "affected-grave",
   "metadata": {},
   "outputs": [],
   "source": []
  }
 ],
 "metadata": {
  "kernelspec": {
   "display_name": "Python 3",
   "language": "python",
   "name": "python3"
  },
  "language_info": {
   "codemirror_mode": {
    "name": "ipython",
    "version": 3
   },
   "file_extension": ".py",
   "mimetype": "text/x-python",
   "name": "python",
   "nbconvert_exporter": "python",
   "pygments_lexer": "ipython3",
   "version": "3.9.1"
  }
 },
 "nbformat": 4,
 "nbformat_minor": 5
}
